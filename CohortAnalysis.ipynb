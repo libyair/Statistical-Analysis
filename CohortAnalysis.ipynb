{
 "cells": [
  {
   "cell_type": "code",
   "execution_count": 1,
   "metadata": {},
   "outputs": [
    {
     "data": {
      "text/html": [
       "<div>\n",
       "<style scoped>\n",
       "    .dataframe tbody tr th:only-of-type {\n",
       "        vertical-align: middle;\n",
       "    }\n",
       "\n",
       "    .dataframe tbody tr th {\n",
       "        vertical-align: top;\n",
       "    }\n",
       "\n",
       "    .dataframe thead th {\n",
       "        text-align: right;\n",
       "    }\n",
       "</style>\n",
       "<table border=\"1\" class=\"dataframe\">\n",
       "  <thead>\n",
       "    <tr style=\"text-align: right;\">\n",
       "      <th></th>\n",
       "      <th>Age</th>\n",
       "      <th>Gender</th>\n",
       "      <th>Sibling_Order</th>\n",
       "      <th>Gestation_(D)</th>\n",
       "      <th>Weight</th>\n",
       "      <th>Birth_Method</th>\n",
       "      <th>Vaginal_vs_CS</th>\n",
       "      <th>Extremity</th>\n",
       "      <th>Weight_3</th>\n",
       "      <th>Weight_3_5</th>\n",
       "    </tr>\n",
       "  </thead>\n",
       "  <tbody>\n",
       "    <tr>\n",
       "      <td>0</td>\n",
       "      <td>5</td>\n",
       "      <td>F</td>\n",
       "      <td>(1.0, inf]</td>\n",
       "      <td>273</td>\n",
       "      <td>3.500</td>\n",
       "      <td>Vaginal</td>\n",
       "      <td>Vaginal</td>\n",
       "      <td>T</td>\n",
       "      <td>(3.0, inf]</td>\n",
       "      <td>(0.0, 3.5]</td>\n",
       "    </tr>\n",
       "    <tr>\n",
       "      <td>1</td>\n",
       "      <td>13</td>\n",
       "      <td>M</td>\n",
       "      <td>(1.0, inf]</td>\n",
       "      <td>280</td>\n",
       "      <td>4.020</td>\n",
       "      <td>Vaginal</td>\n",
       "      <td>Vaginal</td>\n",
       "      <td>T</td>\n",
       "      <td>(3.0, inf]</td>\n",
       "      <td>(3.5, inf]</td>\n",
       "    </tr>\n",
       "    <tr>\n",
       "      <td>2</td>\n",
       "      <td>15</td>\n",
       "      <td>F</td>\n",
       "      <td>(0.0, 1.0]</td>\n",
       "      <td>294</td>\n",
       "      <td>3.860</td>\n",
       "      <td>Vaginal</td>\n",
       "      <td>Vaginal</td>\n",
       "      <td>T</td>\n",
       "      <td>(3.0, inf]</td>\n",
       "      <td>(3.5, inf]</td>\n",
       "    </tr>\n",
       "    <tr>\n",
       "      <td>3</td>\n",
       "      <td>19</td>\n",
       "      <td>F</td>\n",
       "      <td>(0.0, 1.0]</td>\n",
       "      <td>294</td>\n",
       "      <td>3.290</td>\n",
       "      <td>Vaginal</td>\n",
       "      <td>Vaginal</td>\n",
       "      <td>T</td>\n",
       "      <td>(3.0, inf]</td>\n",
       "      <td>(0.0, 3.5]</td>\n",
       "    </tr>\n",
       "    <tr>\n",
       "      <td>4</td>\n",
       "      <td>35</td>\n",
       "      <td>M</td>\n",
       "      <td>(1.0, inf]</td>\n",
       "      <td>279</td>\n",
       "      <td>4.670</td>\n",
       "      <td>Vaginal</td>\n",
       "      <td>Vaginal</td>\n",
       "      <td>T</td>\n",
       "      <td>(3.0, inf]</td>\n",
       "      <td>(3.5, inf]</td>\n",
       "    </tr>\n",
       "    <tr>\n",
       "      <td>...</td>\n",
       "      <td>...</td>\n",
       "      <td>...</td>\n",
       "      <td>...</td>\n",
       "      <td>...</td>\n",
       "      <td>...</td>\n",
       "      <td>...</td>\n",
       "      <td>...</td>\n",
       "      <td>...</td>\n",
       "      <td>...</td>\n",
       "      <td>...</td>\n",
       "    </tr>\n",
       "    <tr>\n",
       "      <td>173</td>\n",
       "      <td>230</td>\n",
       "      <td>M</td>\n",
       "      <td>(0.0, 1.0]</td>\n",
       "      <td>287</td>\n",
       "      <td>3.160</td>\n",
       "      <td>Vaginal</td>\n",
       "      <td>Vaginal</td>\n",
       "      <td>NIL</td>\n",
       "      <td>(3.0, inf]</td>\n",
       "      <td>(0.0, 3.5]</td>\n",
       "    </tr>\n",
       "    <tr>\n",
       "      <td>174</td>\n",
       "      <td>242</td>\n",
       "      <td>M</td>\n",
       "      <td>(0.0, 1.0]</td>\n",
       "      <td>292</td>\n",
       "      <td>4.150</td>\n",
       "      <td>Vaginal</td>\n",
       "      <td>Vaginal</td>\n",
       "      <td>NIL</td>\n",
       "      <td>(3.0, inf]</td>\n",
       "      <td>(3.5, inf]</td>\n",
       "    </tr>\n",
       "    <tr>\n",
       "      <td>175</td>\n",
       "      <td>256</td>\n",
       "      <td>M</td>\n",
       "      <td>(1.0, inf]</td>\n",
       "      <td>251</td>\n",
       "      <td>3.055</td>\n",
       "      <td>Vaginal</td>\n",
       "      <td>Vaginal</td>\n",
       "      <td>NIL</td>\n",
       "      <td>(3.0, inf]</td>\n",
       "      <td>(0.0, 3.5]</td>\n",
       "    </tr>\n",
       "    <tr>\n",
       "      <td>176</td>\n",
       "      <td>293</td>\n",
       "      <td>M</td>\n",
       "      <td>(0.0, 1.0]</td>\n",
       "      <td>282</td>\n",
       "      <td>3.350</td>\n",
       "      <td>EM-CS</td>\n",
       "      <td>CS</td>\n",
       "      <td>NIL</td>\n",
       "      <td>(3.0, inf]</td>\n",
       "      <td>(0.0, 3.5]</td>\n",
       "    </tr>\n",
       "    <tr>\n",
       "      <td>177</td>\n",
       "      <td>312</td>\n",
       "      <td>M</td>\n",
       "      <td>(0.0, 1.0]</td>\n",
       "      <td>261</td>\n",
       "      <td>2.720</td>\n",
       "      <td>Vaginal</td>\n",
       "      <td>Vaginal</td>\n",
       "      <td>NIL</td>\n",
       "      <td>(0.0, 3.0]</td>\n",
       "      <td>(0.0, 3.5]</td>\n",
       "    </tr>\n",
       "  </tbody>\n",
       "</table>\n",
       "<p>178 rows × 10 columns</p>\n",
       "</div>"
      ],
      "text/plain": [
       "     Age Gender Sibling_Order  Gestation_(D)  Weight Birth_Method  \\\n",
       "0      5      F    (1.0, inf]            273   3.500      Vaginal   \n",
       "1     13      M    (1.0, inf]            280   4.020      Vaginal   \n",
       "2     15      F    (0.0, 1.0]            294   3.860      Vaginal   \n",
       "3     19      F    (0.0, 1.0]            294   3.290      Vaginal   \n",
       "4     35      M    (1.0, inf]            279   4.670      Vaginal   \n",
       "..   ...    ...           ...            ...     ...          ...   \n",
       "173  230      M    (0.0, 1.0]            287   3.160      Vaginal   \n",
       "174  242      M    (0.0, 1.0]            292   4.150      Vaginal   \n",
       "175  256      M    (1.0, inf]            251   3.055      Vaginal   \n",
       "176  293      M    (0.0, 1.0]            282   3.350        EM-CS   \n",
       "177  312      M    (0.0, 1.0]            261   2.720      Vaginal   \n",
       "\n",
       "    Vaginal_vs_CS Extremity    Weight_3  Weight_3_5  \n",
       "0         Vaginal         T  (3.0, inf]  (0.0, 3.5]  \n",
       "1         Vaginal         T  (3.0, inf]  (3.5, inf]  \n",
       "2         Vaginal         T  (3.0, inf]  (3.5, inf]  \n",
       "3         Vaginal         T  (3.0, inf]  (0.0, 3.5]  \n",
       "4         Vaginal         T  (3.0, inf]  (3.5, inf]  \n",
       "..            ...       ...         ...         ...  \n",
       "173       Vaginal       NIL  (3.0, inf]  (0.0, 3.5]  \n",
       "174       Vaginal       NIL  (3.0, inf]  (3.5, inf]  \n",
       "175       Vaginal       NIL  (3.0, inf]  (0.0, 3.5]  \n",
       "176            CS       NIL  (3.0, inf]  (0.0, 3.5]  \n",
       "177       Vaginal       NIL  (0.0, 3.0]  (0.0, 3.5]  \n",
       "\n",
       "[178 rows x 10 columns]"
      ]
     },
     "execution_count": 1,
     "metadata": {},
     "output_type": "execute_result"
    }
   ],
   "source": [
    "import numpy as np\n",
    "from math import sqrt\n",
    "from sklearn.metrics import mean_squared_error\n",
    "import pandas as pd\n",
    "import math\n",
    "from tabulate import tabulate\n",
    "import scipy\n",
    "import scipy.special\n",
    "import scipy.stats as stats\n",
    "from scipy.stats import chi2_contingency\n",
    "from scipy.stats import chi2\n",
    "import matplotlib.pyplot as plt\n",
    "\n",
    "\n",
    "data = pd.read_excel(r'C:\\Users\\Yair\\Documents\\Airtasker\\Christian\\data_clean.xlsx')\n",
    "data = data.rename(columns={'Sibling Order':'Sibling_Order','Birth Method':'Birth_Method', 'Vaginal vs CS':'Vaginal_vs_CS',\n",
    "                           'Gestation (D)':'Gestation_(D)'})\n",
    "data.Extremity = data.Extremity.replace(['L','R'], 'T')\n",
    "data['Weight_3'] = pd.cut(data['Weight'], [0,3,math.inf])\n",
    "data.Sibling_Order = pd.cut(data['Sibling_Order'], [0,1,math.inf]) \n",
    "data['Weight_3_5'] = pd.cut(data['Weight'], [0,3.5,math.inf])\n",
    "data.head()\n",
    "data_orig = data\n",
    "data_orig"
   ]
  },
  {
   "cell_type": "code",
   "execution_count": 76,
   "metadata": {},
   "outputs": [
    {
     "data": {
      "text/html": [
       "<div>\n",
       "<style scoped>\n",
       "    .dataframe tbody tr th:only-of-type {\n",
       "        vertical-align: middle;\n",
       "    }\n",
       "\n",
       "    .dataframe tbody tr th {\n",
       "        vertical-align: top;\n",
       "    }\n",
       "\n",
       "    .dataframe thead th {\n",
       "        text-align: right;\n",
       "    }\n",
       "</style>\n",
       "<table border=\"1\" class=\"dataframe\">\n",
       "  <thead>\n",
       "    <tr style=\"text-align: right;\">\n",
       "      <th></th>\n",
       "      <th>Gender</th>\n",
       "      <th>Sibling_Order</th>\n",
       "      <th>Weight</th>\n",
       "      <th>Birth_Method</th>\n",
       "      <th>Vaginal_vs_CS</th>\n",
       "      <th>Extremity</th>\n",
       "    </tr>\n",
       "  </thead>\n",
       "  <tbody>\n",
       "    <tr>\n",
       "      <td>0</td>\n",
       "      <td>F</td>\n",
       "      <td>(1.0, inf]</td>\n",
       "      <td>(0.0, 3.5]</td>\n",
       "      <td>Vaginal</td>\n",
       "      <td>Vaginal</td>\n",
       "      <td>T</td>\n",
       "    </tr>\n",
       "    <tr>\n",
       "      <td>1</td>\n",
       "      <td>M</td>\n",
       "      <td>(1.0, inf]</td>\n",
       "      <td>(3.5, inf]</td>\n",
       "      <td>Vaginal</td>\n",
       "      <td>Vaginal</td>\n",
       "      <td>T</td>\n",
       "    </tr>\n",
       "    <tr>\n",
       "      <td>2</td>\n",
       "      <td>F</td>\n",
       "      <td>(0.0, 1.0]</td>\n",
       "      <td>(3.5, inf]</td>\n",
       "      <td>Vaginal</td>\n",
       "      <td>Vaginal</td>\n",
       "      <td>T</td>\n",
       "    </tr>\n",
       "    <tr>\n",
       "      <td>3</td>\n",
       "      <td>F</td>\n",
       "      <td>(0.0, 1.0]</td>\n",
       "      <td>(0.0, 3.5]</td>\n",
       "      <td>Vaginal</td>\n",
       "      <td>Vaginal</td>\n",
       "      <td>T</td>\n",
       "    </tr>\n",
       "    <tr>\n",
       "      <td>4</td>\n",
       "      <td>M</td>\n",
       "      <td>(1.0, inf]</td>\n",
       "      <td>(3.5, inf]</td>\n",
       "      <td>Vaginal</td>\n",
       "      <td>Vaginal</td>\n",
       "      <td>T</td>\n",
       "    </tr>\n",
       "    <tr>\n",
       "      <td>...</td>\n",
       "      <td>...</td>\n",
       "      <td>...</td>\n",
       "      <td>...</td>\n",
       "      <td>...</td>\n",
       "      <td>...</td>\n",
       "      <td>...</td>\n",
       "    </tr>\n",
       "    <tr>\n",
       "      <td>173</td>\n",
       "      <td>M</td>\n",
       "      <td>(0.0, 1.0]</td>\n",
       "      <td>(0.0, 3.5]</td>\n",
       "      <td>Vaginal</td>\n",
       "      <td>Vaginal</td>\n",
       "      <td>NIL</td>\n",
       "    </tr>\n",
       "    <tr>\n",
       "      <td>174</td>\n",
       "      <td>M</td>\n",
       "      <td>(0.0, 1.0]</td>\n",
       "      <td>(3.5, inf]</td>\n",
       "      <td>Vaginal</td>\n",
       "      <td>Vaginal</td>\n",
       "      <td>NIL</td>\n",
       "    </tr>\n",
       "    <tr>\n",
       "      <td>175</td>\n",
       "      <td>M</td>\n",
       "      <td>(1.0, inf]</td>\n",
       "      <td>(0.0, 3.5]</td>\n",
       "      <td>Vaginal</td>\n",
       "      <td>Vaginal</td>\n",
       "      <td>NIL</td>\n",
       "    </tr>\n",
       "    <tr>\n",
       "      <td>176</td>\n",
       "      <td>M</td>\n",
       "      <td>(0.0, 1.0]</td>\n",
       "      <td>(0.0, 3.5]</td>\n",
       "      <td>EM-CS</td>\n",
       "      <td>CS</td>\n",
       "      <td>NIL</td>\n",
       "    </tr>\n",
       "    <tr>\n",
       "      <td>177</td>\n",
       "      <td>M</td>\n",
       "      <td>(0.0, 1.0]</td>\n",
       "      <td>(0.0, 3.5]</td>\n",
       "      <td>Vaginal</td>\n",
       "      <td>Vaginal</td>\n",
       "      <td>NIL</td>\n",
       "    </tr>\n",
       "  </tbody>\n",
       "</table>\n",
       "<p>178 rows × 6 columns</p>\n",
       "</div>"
      ],
      "text/plain": [
       "    Gender Sibling_Order      Weight Birth_Method Vaginal_vs_CS Extremity\n",
       "0        F    (1.0, inf]  (0.0, 3.5]      Vaginal       Vaginal         T\n",
       "1        M    (1.0, inf]  (3.5, inf]      Vaginal       Vaginal         T\n",
       "2        F    (0.0, 1.0]  (3.5, inf]      Vaginal       Vaginal         T\n",
       "3        F    (0.0, 1.0]  (0.0, 3.5]      Vaginal       Vaginal         T\n",
       "4        M    (1.0, inf]  (3.5, inf]      Vaginal       Vaginal         T\n",
       "..     ...           ...         ...          ...           ...       ...\n",
       "173      M    (0.0, 1.0]  (0.0, 3.5]      Vaginal       Vaginal       NIL\n",
       "174      M    (0.0, 1.0]  (3.5, inf]      Vaginal       Vaginal       NIL\n",
       "175      M    (1.0, inf]  (0.0, 3.5]      Vaginal       Vaginal       NIL\n",
       "176      M    (0.0, 1.0]  (0.0, 3.5]        EM-CS            CS       NIL\n",
       "177      M    (0.0, 1.0]  (0.0, 3.5]      Vaginal       Vaginal       NIL\n",
       "\n",
       "[178 rows x 6 columns]"
      ]
     },
     "execution_count": 76,
     "metadata": {},
     "output_type": "execute_result"
    }
   ],
   "source": [
    "#Choose only categorial var\n",
    "data = data.drop(columns={'Age','Gestation_(D)'})\n",
    "data\n",
    "\n"
   ]
  },
  {
   "cell_type": "code",
   "execution_count": 136,
   "metadata": {},
   "outputs": [
    {
     "name": "stdout",
     "output_type": "stream",
     "text": [
      "Gender\n",
      "+----------+-------+-----+\n",
      "| Gender   |   NIL |   T |\n",
      "|----------+-------+-----|\n",
      "| F        |    15 |  54 |\n",
      "| M        |    32 |  77 |\n",
      "+----------+-------+-----+\n",
      "chi=0.900463, critical value=3.841459\n",
      "\n",
      "At 0.05 level of significance, by using chi-test, we accept the null hypotheses. \n",
      "            They are independent.\n",
      "Less is chosen\n",
      "p=0.171531 one side\n",
      "p=0.297940 two sides\n",
      "At 0.05 level of significance, by using by using Fisher's test, we accept the null hypotheses. \n",
      "                They are independent.\n",
      "Sibling_Order\n",
      "+-----------------+-------+-----+\n",
      "| Sibling_Order   |   NIL |   T |\n",
      "|-----------------+-------+-----|\n",
      "| (0.0, 1.0]      |    26 |  58 |\n",
      "| (1.0, inf]      |    21 |  73 |\n",
      "+-----------------+-------+-----+\n",
      "chi=1.278847, critical value=3.841459\n",
      "\n",
      "At 0.05 level of significance, by using chi-test, we accept the null hypotheses. \n",
      "            They are independent.\n",
      "greater is chosen\n",
      "p=0.129086 one side\n",
      "p=0.233850 two sides\n",
      "At 0.05 level of significance, by using by using Fisher's test, we accept the null hypotheses. \n",
      "                They are independent.\n",
      "Birth_Method\n",
      "+----------------+-------+-----+\n",
      "| Birth_Method   |   NIL |   T |\n",
      "|----------------+-------+-----|\n",
      "| CS             |     5 |   8 |\n",
      "| EL-CS          |     1 |   9 |\n",
      "| EM-CS          |     4 |  20 |\n",
      "| Vaginal        |    37 |  94 |\n",
      "+----------------+-------+-----+\n",
      "chi=3.756656, critical value=7.814728\n",
      "\n",
      "At 0.05 level of significance, by using chi-test, we accept the null hypotheses. \n",
      "            They are independent.\n",
      "Cannot perform this calculation by the regular mode\n",
      "Vaginal_vs_CS\n",
      "+-----------------+-------+-----+\n",
      "| Vaginal_vs_CS   |   NIL |   T |\n",
      "|-----------------+-------+-----|\n",
      "| CS              |    10 |  37 |\n",
      "| Vaginal         |    37 |  94 |\n",
      "+-----------------+-------+-----+\n",
      "chi=0.542800, critical value=3.841459\n",
      "\n",
      "At 0.05 level of significance, by using chi-test, we accept the null hypotheses. \n",
      "            They are independent.\n",
      "Less is chosen\n",
      "p=0.232875 one side\n",
      "p=0.441585 two sides\n",
      "At 0.05 level of significance, by using by using Fisher's test, we accept the null hypotheses. \n",
      "                They are independent.\n",
      "Extremity\n",
      "+-------------+-------+-----+\n",
      "| Extremity   |   NIL |   T |\n",
      "|-------------+-------+-----|\n",
      "| NIL         |    47 |   0 |\n",
      "| T           |     0 | 131 |\n",
      "+-------------+-------+-----+\n",
      "chi=172.891180, critical value=3.841459\n",
      "\n",
      "At 0.05 level of significance, by using chi-test we reject the null hypotheses and accept H1. \n",
      "            They are not independent.\n",
      "greater is chosen\n",
      "p=0.000000 one side\n",
      "p=0.000000 two sides\n",
      "At 0.05 level of significance, by using Fisher's test we reject the null hypotheses and accept H1. \n",
      "                They are not independent.\n",
      "Weight_3\n",
      "+------------+-------+-----+\n",
      "| Weight_3   |   NIL |   T |\n",
      "|------------+-------+-----|\n",
      "| (0.0, 3.0] |    12 |  27 |\n",
      "| (3.0, inf] |    35 | 104 |\n",
      "+------------+-------+-----+\n",
      "chi=0.244230, critical value=3.841459\n",
      "\n",
      "At 0.05 level of significance, by using chi-test, we accept the null hypotheses. \n",
      "            They are independent.\n",
      "Less is chosen\n",
      "p=0.818241 one side\n",
      "p=0.538704 two sides\n",
      "At 0.05 level of significance, by using by using Fisher's test, we accept the null hypotheses. \n",
      "                They are independent.\n",
      "Weight_3_5\n",
      "+--------------+-------+-----+\n",
      "| Weight_3_5   |   NIL |   T |\n",
      "|--------------+-------+-----|\n",
      "| (0.0, 3.5]   |    28 |  72 |\n",
      "| (3.5, inf]   |    19 |  59 |\n",
      "+--------------+-------+-----+\n",
      "chi=0.140937, critical value=3.841459\n",
      "\n",
      "At 0.05 level of significance, by using chi-test, we accept the null hypotheses. \n",
      "            They are independent.\n",
      "greater is chosen\n",
      "p=0.354888 one side\n",
      "p=0.611385 two sides\n",
      "At 0.05 level of significance, by using by using Fisher's test, we accept the null hypotheses. \n",
      "                They are independent.\n"
     ]
    }
   ],
   "source": [
    "#General Analysis for categorial var\n",
    "data = data_orig.drop(columns={'Age','Gestation_(D)', 'Weight'})\n",
    "\n",
    "significance = 0.05\n",
    "\n",
    "for var in data.columns:\n",
    "    print(var)\n",
    "    freq_table = pd.crosstab(data[var], data.Extremity, rownames = [var], colnames= ['Extremity'])\n",
    "    print(tabulate(freq_table, headers='keys', tablefmt='psql'))\n",
    "    #Chi test\n",
    "    chi, pval_chi, dof_chi, exp_chi = chi2_contingency(freq_table)\n",
    "\n",
    "    p = 1 - significance\n",
    "    critical_value_chi = chi2.ppf(p, dof_chi)\n",
    "    print('chi=%.6f, critical value=%.6f\\n' % (chi, critical_value_chi))\n",
    "    if chi > critical_value_chi:\n",
    "        print(\"\"\"At %.2f level of significance, by using chi-test we reject the null hypotheses and accept H1. \n",
    "            They are not independent.\"\"\" % (significance))\n",
    "    else:\n",
    "        print(\"\"\"At %.2f level of significance, by using chi-test, we accept the null hypotheses. \n",
    "            They are independent.\"\"\" % (significance))\n",
    "    ##Ficher test\n",
    "    try:\n",
    "        if freq_table.iloc[0][0]>freq_table.iloc[1][0]:\n",
    "            oddsratio, pvalue_fisher = stats.fisher_exact(freq_table, alternative='greater')\n",
    "            print('greater is chosen')\n",
    "        else:\n",
    "            oddsratio, pvalue_fisher = stats.fisher_exact(freq_table, alternative='less')\n",
    "            print('Less is chosen')\n",
    "        print('p=%.6f one side' % (pvalue_fisher))\n",
    "        oddsratio, pvalue_fisher = stats.fisher_exact(freq_table)\n",
    "        print('p=%.6f two sides' % (pvalue_fisher))\n",
    "        if pvalue_fisher <= significance:\n",
    "            print(\"\"\"At %.2f level of significance, by using Fisher's test we reject the null hypotheses and accept H1. \n",
    "                They are not independent.\"\"\" % (significance))\n",
    "        else:\n",
    "            print(\"\"\"At %.2f level of significance, by using by using Fisher's test, we accept the null hypotheses. \n",
    "                They are independent.\"\"\" % (significance))\n",
    "    except:\n",
    "        print(\"Cannot perform this calculation by the regular mode\")\n",
    "    \n",
    "        \n",
    "#         stats = importr('stats')\n",
    "# m = np.array([[4,4],[4,5],[10,6]])\n",
    "# res = stats.fisher_test(m)\n",
    "# print 'p-value: {}'.format(res[0][0])\n",
    "# >> p-value: 0.668165917041\n",
    "    \n",
    "    \n",
    "    \n",
    "    \n"
   ]
  },
  {
   "cell_type": "code",
   "execution_count": null,
   "metadata": {},
   "outputs": [],
   "source": []
  },
  {
   "cell_type": "code",
   "execution_count": 8,
   "metadata": {},
   "outputs": [],
   "source": [
    "# def p(a): \n",
    "#     v=(scipy.special.binom(int(df2.iloc[0,2]), a) * scipy.special.binom(int(df2.iloc[1,2]), (int(df2.iloc[2,0])-a)) )/scipy.special.binom(n, int(df2.iloc[2,0]))\n",
    "#     return v\n",
    "\n",
    "# data = data_orig\n",
    "# for var in data.columns:\n",
    "#     print(var)\n",
    "#     freq_table = pd.crosstab(data[var], data.Extremity, rownames = [var], colnames= ['Extremity'])\n",
    "#     print(tabulate(freq_table, headers='keys', tablefmt='psql'))\n",
    "#     df2=freq_table.copy()\n",
    "#     df2.loc['Column_Total']= df2.sum(numeric_only=True, axis=0)\n",
    "#     df2.loc[:,'Row_Total'] = df2.sum(numeric_only=True, axis=1)\n",
    "#     n=df2.at[\"Column_Total\", \"Row_Total\"]  # grand total \n",
    "#     exp=df2.copy()               # create dataframe with expected frequencies\n",
    "#     for x in exp.index[0:-1]:\n",
    "#         for y in exp.columns[0:-1]:\n",
    "#             # round expected values to nearest hundredths:\n",
    "#             v= (((df2.at[x, \"Row_Total\"]) * (df2.at[\"Column_Total\", y])   )   /n ).round(2) \n",
    "#             exp.at[x,y]=float(v)\n",
    "#             p_observed=p(freq_table.iloc[0,0]) # In our contingency table, a was equal to 7.\n",
    "\n",
    "#             p_list=[]\n",
    "#             for i in range(int(df2.iloc[0,2])  + 1  ): # calculate p(a) for every possible table we can get given the fixed margins...\n",
    "#             #... this ranges from \"9 choose 0\" to \"9 choose 9\" so we should get 10 possible tables and their respective probabilities..\n",
    "#                 if p(i)<=p_observed:\n",
    "#                     p_list.append(p(i))     # append these probabilites to p_list only if <= p_observed\n",
    "#             pvalue_fisher=np.sum(p_list)\n",
    "#             print('p=%.6f' % (pvalue_fisher))\n",
    "#             if pvalue_fisher <= significance:\n",
    "#                 print(\"\"\"At %.2f level of significance, by using Fisher's test we reject the null hypotheses and accept H1. \n",
    "#                 They are not independent.\"\"\" % (significance))\n",
    "#             else:\n",
    "#                 print(\"\"\"At %.2f level of significance, by using by using Fisher's test, we accept the null hypotheses. \n",
    "#                     They are independent.\"\"\" % (significance))\n",
    "\n",
    "            \n",
    "            "
   ]
  },
  {
   "cell_type": "code",
   "execution_count": 2,
   "metadata": {},
   "outputs": [
    {
     "name": "stdout",
     "output_type": "stream",
     "text": [
      "Gender\n",
      "+----------+-------+-----+\n",
      "| Gender   |   NIL |   T |\n",
      "|----------+-------+-----|\n",
      "| M        |    32 |  77 |\n",
      "+----------+-------+-----+\n",
      "chi=0.000000, critical value=nan\n",
      "\n",
      "At 0.05 level of significance, by using chi-test, we accept the null hypotheses. \n",
      "            They are independent.\n",
      "Cannot perform this calculation by the regular mode\n",
      "Sibling_Order\n",
      "+-----------------+-------+-----+\n",
      "| Sibling_Order   |   NIL |   T |\n",
      "|-----------------+-------+-----|\n",
      "| (0.0, 1.0]      |    15 |  32 |\n",
      "| (1.0, inf]      |    17 |  45 |\n",
      "+-----------------+-------+-----+\n",
      "chi=0.088842, critical value=3.841459\n",
      "\n",
      "At 0.05 level of significance, by using chi-test, we accept the null hypotheses. \n",
      "            They are independent.\n",
      "Less is chosen\n",
      "p=0.765523 one side\n",
      "p=0.673473 two sides\n",
      "At 0.05 level of significance, by using by using Fisher's test, we accept the null hypotheses. \n",
      "                They are independent.\n",
      "Birth_Method\n",
      "+----------------+-------+-----+\n",
      "| Birth_Method   |   NIL |   T |\n",
      "|----------------+-------+-----|\n",
      "| CS             |     4 |   4 |\n",
      "| EL-CS          |     1 |   3 |\n",
      "| EM-CS          |     3 |  11 |\n",
      "| Vaginal        |    24 |  59 |\n",
      "+----------------+-------+-----+\n",
      "chi=2.112546, critical value=7.814728\n",
      "\n",
      "At 0.05 level of significance, by using chi-test, we accept the null hypotheses. \n",
      "            They are independent.\n",
      "Cannot perform this calculation by the regular mode\n",
      "Vaginal_vs_CS\n",
      "+-----------------+-------+-----+\n",
      "| Vaginal_vs_CS   |   NIL |   T |\n",
      "|-----------------+-------+-----|\n",
      "| CS              |     8 |  18 |\n",
      "| Vaginal         |    24 |  59 |\n",
      "+-----------------+-------+-----+\n",
      "chi=0.004310, critical value=3.841459\n",
      "\n",
      "At 0.05 level of significance, by using chi-test, we accept the null hypotheses. \n",
      "            They are independent.\n",
      "Less is chosen\n",
      "p=0.670668 one side\n",
      "p=1.000000 two sides\n",
      "At 0.05 level of significance, by using by using Fisher's test, we accept the null hypotheses. \n",
      "                They are independent.\n",
      "Extremity\n",
      "+-------------+-------+-----+\n",
      "| Extremity   |   NIL |   T |\n",
      "|-------------+-------+-----|\n",
      "| NIL         |    32 |   0 |\n",
      "| T           |     0 |  77 |\n",
      "+-------------+-------+-----+\n",
      "chi=104.231491, critical value=3.841459\n",
      "\n",
      "At 0.05 level of significance, by using chi-test we reject the null hypotheses and accept H1. \n",
      "            They are not independent.\n",
      "greater is chosen\n",
      "p=0.000000 one side\n",
      "p=0.000000 two sides\n",
      "At 0.05 level of significance, by using Fisher's test we reject the null hypotheses and accept H1. \n",
      "                They are not independent.\n",
      "Weight_3\n",
      "+------------+-------+-----+\n",
      "| Weight_3   |   NIL |   T |\n",
      "|------------+-------+-----|\n",
      "| (0.0, 3.0] |     8 |  20 |\n",
      "| (3.0, inf] |    24 |  57 |\n",
      "+------------+-------+-----+\n",
      "chi=0.018144, critical value=3.841459\n",
      "\n",
      "At 0.05 level of significance, by using chi-test, we accept the null hypotheses. \n",
      "            They are independent.\n",
      "Less is chosen\n",
      "p=0.559824 one side\n",
      "p=1.000000 two sides\n",
      "At 0.05 level of significance, by using by using Fisher's test, we accept the null hypotheses. \n",
      "                They are independent.\n",
      "Weight_3_5\n",
      "+--------------+-------+-----+\n",
      "| Weight_3_5   |   NIL |   T |\n",
      "|--------------+-------+-----|\n",
      "| (0.0, 3.5]   |    17 |  41 |\n",
      "| (3.5, inf]   |    15 |  36 |\n",
      "+--------------+-------+-----+\n",
      "chi=0.039665, critical value=3.841459\n",
      "\n",
      "At 0.05 level of significance, by using chi-test, we accept the null hypotheses. \n",
      "            They are independent.\n",
      "greater is chosen\n",
      "p=0.588562 one side\n",
      "p=1.000000 two sides\n",
      "At 0.05 level of significance, by using by using Fisher's test, we accept the null hypotheses. \n",
      "                They are independent.\n"
     ]
    }
   ],
   "source": [
    "#Cohorts Analysis - M \n",
    "data = data_orig.drop(columns={'Age','Gestation_(D)', 'Weight'})\n",
    "data = data[data.Gender=='M']\n",
    "\n",
    "significance = 0.05\n",
    "\n",
    "def p(a): \n",
    "    v=(scipy.special.binom(int(df2.iloc[0,2]), a) * scipy.special.binom(int(df2.iloc[1,2]), (int(df2.iloc[2,0])-a)) )/scipy.special.binom(n, int(df2.iloc[2,0]))\n",
    "    return v\n",
    "\n",
    "for var in data.columns:\n",
    "    print(var)\n",
    "    freq_table = pd.crosstab(data[var], data.Extremity, rownames = [var], colnames= ['Extremity'])\n",
    "    print(tabulate(freq_table, headers='keys', tablefmt='psql'))\n",
    "    #Chi test\n",
    "    chi, pval_chi, dof_chi, exp_chi = chi2_contingency(freq_table)\n",
    "\n",
    "    p = 1 - significance\n",
    "    critical_value_chi = chi2.ppf(p, dof_chi)\n",
    "    print('chi=%.6f, critical value=%.6f\\n' % (chi, critical_value_chi))\n",
    "    if chi > critical_value_chi:\n",
    "        print(\"\"\"At %.2f level of significance, by using chi-test we reject the null hypotheses and accept H1. \n",
    "            They are not independent.\"\"\" % (significance))\n",
    "    else:\n",
    "        print(\"\"\"At %.2f level of significance, by using chi-test, we accept the null hypotheses. \n",
    "            They are independent.\"\"\" % (significance))\n",
    "    ##Ficher test\n",
    "    try:\n",
    "        if freq_table.iloc[0][0]>freq_table.iloc[1][0]:\n",
    "            oddsratio, pvalue_fisher = stats.fisher_exact(freq_table, alternative='greater')\n",
    "            print('greater is chosen')\n",
    "        else:\n",
    "            oddsratio, pvalue_fisher = stats.fisher_exact(freq_table, alternative='less')\n",
    "            print('Less is chosen')\n",
    "        print('p=%.6f one side' % (pvalue_fisher))\n",
    "        oddsratio, pvalue_fisher = stats.fisher_exact(freq_table)\n",
    "        print('p=%.6f two sides' % (pvalue_fisher))\n",
    "        if pvalue_fisher <= significance:\n",
    "            print(\"\"\"At %.2f level of significance, by using Fisher's test we reject the null hypotheses and accept H1. \n",
    "                They are not independent.\"\"\" % (significance))\n",
    "        else:\n",
    "            print(\"\"\"At %.2f level of significance, by using by using Fisher's test, we accept the null hypotheses. \n",
    "                They are independent.\"\"\" % (significance))\n",
    "    except:\n",
    "        print(\"Cannot perform this calculation by the regular mode\")\n",
    "\n",
    "        \n",
    "\n",
    "                    \n",
    "            \n",
    "                \n",
    "        \n"
   ]
  },
  {
   "cell_type": "code",
   "execution_count": 134,
   "metadata": {},
   "outputs": [
    {
     "name": "stdout",
     "output_type": "stream",
     "text": [
      "Gender\n",
      "+----------+-------+-----+\n",
      "| Gender   |   NIL |   T |\n",
      "|----------+-------+-----|\n",
      "| F        |    15 |  54 |\n",
      "+----------+-------+-----+\n",
      "chi=0.000000, critical value=nan\n",
      "\n",
      "At 0.05 level of significance, by using chi-test, we accept the null hypotheses. \n",
      "            They are independent.\n",
      "Cannot perform this calculation by the regular mode\n",
      "Sibling_Order\n",
      "+-----------------+-------+-----+\n",
      "| Sibling_Order   |   NIL |   T |\n",
      "|-----------------+-------+-----|\n",
      "| (0.0, 1.0]      |    11 |  26 |\n",
      "| (1.0, inf]      |     4 |  28 |\n",
      "+-----------------+-------+-----+\n",
      "chi=2.067054, critical value=3.841459\n",
      "\n",
      "At 0.05 level of significance, by using chi-test, we accept the null hypotheses. \n",
      "            They are independent.\n",
      "greater is chosen\n",
      "p=0.073924 one side\n",
      "p=0.142097 two sides\n",
      "At 0.05 level of significance, by using by using Fisher's test, we accept the null hypotheses. \n",
      "                They are independent.\n",
      "Birth_Method\n",
      "+----------------+-------+-----+\n",
      "| Birth_Method   |   NIL |   T |\n",
      "|----------------+-------+-----|\n",
      "| CS             |     1 |   4 |\n",
      "| EL-CS          |     0 |   6 |\n",
      "| EM-CS          |     1 |   9 |\n",
      "| Vaginal        |    13 |  35 |\n",
      "+----------------+-------+-----+\n",
      "chi=3.291343, critical value=7.814728\n",
      "\n",
      "At 0.05 level of significance, by using chi-test, we accept the null hypotheses. \n",
      "            They are independent.\n",
      "Cannot perform this calculation by the regular mode\n",
      "Vaginal_vs_CS\n",
      "+-----------------+-------+-----+\n",
      "| Vaginal_vs_CS   |   NIL |   T |\n",
      "|-----------------+-------+-----|\n",
      "| CS              |     2 |  19 |\n",
      "| Vaginal         |    13 |  35 |\n",
      "+-----------------+-------+-----+\n",
      "chi=1.716063, critical value=3.841459\n",
      "\n",
      "At 0.05 level of significance, by using chi-test, we accept the null hypotheses. \n",
      "            They are independent.\n",
      "Less is chosen\n",
      "p=0.091266 one side\n",
      "p=0.125256 two sides\n",
      "At 0.05 level of significance, by using by using Fisher's test, we accept the null hypotheses. \n",
      "                They are independent.\n",
      "Extremity\n",
      "+-------------+-------+-----+\n",
      "| Extremity   |   NIL |   T |\n",
      "|-------------+-------+-----|\n",
      "| NIL         |    15 |   0 |\n",
      "| T           |     0 |  54 |\n",
      "+-------------+-------+-----+\n",
      "chi=63.247397, critical value=3.841459\n",
      "\n",
      "At 0.05 level of significance, by using chi-test we reject the null hypotheses and accept H1. \n",
      "            They are not independent.\n",
      "greater is chosen\n",
      "p=0.000000 one side\n",
      "p=0.000000 two sides\n",
      "At 0.05 level of significance, by using Fisher's test we reject the null hypotheses and accept H1. \n",
      "                They are not independent.\n",
      "Weight_3\n",
      "+------------+-------+-----+\n",
      "| Weight_3   |   NIL |   T |\n",
      "|------------+-------+-----|\n",
      "| (0.0, 3.0] |     4 |   7 |\n",
      "| (3.0, inf] |    11 |  47 |\n",
      "+------------+-------+-----+\n",
      "chi=0.781387, critical value=3.841459\n",
      "\n",
      "At 0.05 level of significance, by using chi-test, we accept the null hypotheses. \n",
      "            They are independent.\n",
      "Less is chosen\n",
      "p=0.947588 one side\n",
      "p=0.237445 two sides\n",
      "At 0.05 level of significance, by using by using Fisher's test, we accept the null hypotheses. \n",
      "                They are independent.\n",
      "Weight_3_5\n",
      "+--------------+-------+-----+\n",
      "| Weight_3_5   |   NIL |   T |\n",
      "|--------------+-------+-----|\n",
      "| (0.0, 3.5]   |    11 |  31 |\n",
      "| (3.5, inf]   |     4 |  23 |\n",
      "+--------------+-------+-----+\n",
      "chi=0.670833, critical value=3.841459\n",
      "\n",
      "At 0.05 level of significance, by using chi-test, we accept the null hypotheses. \n",
      "            They are independent.\n",
      "greater is chosen\n",
      "p=0.208073 one side\n",
      "p=0.372718 two sides\n",
      "At 0.05 level of significance, by using by using Fisher's test, we accept the null hypotheses. \n",
      "                They are independent.\n"
     ]
    }
   ],
   "source": [
    "#Cohorts Analysis - F\n",
    "data = data_orig.drop(columns={'Age','Gestation_(D)','Weight'})\n",
    "data = data[data.Gender=='F']\n",
    "\n",
    "significance = 0.05\n",
    "\n",
    "def p(a): \n",
    "    v=(scipy.special.binom(int(df2.iloc[0,2]), a) * scipy.special.binom(int(df2.iloc[1,2]), (int(df2.iloc[2,0])-a)) )/scipy.special.binom(n, int(df2.iloc[2,0]))\n",
    "    return v\n",
    "\n",
    "for var in data.columns:\n",
    "    print(var)\n",
    "    freq_table = pd.crosstab(data[var], data.Extremity, rownames = [var], colnames= ['Extremity'])\n",
    "    print(tabulate(freq_table, headers='keys', tablefmt='psql'))\n",
    "    #Chi test\n",
    "    chi, pval_chi, dof_chi, exp_chi = chi2_contingency(freq_table)\n",
    "\n",
    "    p = 1 - significance\n",
    "    critical_value_chi = chi2.ppf(p, dof_chi)\n",
    "    print('chi=%.6f, critical value=%.6f\\n' % (chi, critical_value_chi))\n",
    "    if chi > critical_value_chi:\n",
    "        print(\"\"\"At %.2f level of significance, by using chi-test we reject the null hypotheses and accept H1. \n",
    "            They are not independent.\"\"\" % (significance))\n",
    "    else:\n",
    "        print(\"\"\"At %.2f level of significance, by using chi-test, we accept the null hypotheses. \n",
    "            They are independent.\"\"\" % (significance))\n",
    "    ##Ficher test\n",
    "    try:\n",
    "        if freq_table.iloc[0][0]>freq_table.iloc[1][0]:\n",
    "            oddsratio, pvalue_fisher = stats.fisher_exact(freq_table, alternative='greater')\n",
    "            print('greater is chosen')\n",
    "        else:\n",
    "            oddsratio, pvalue_fisher = stats.fisher_exact(freq_table, alternative='less')\n",
    "            print('Less is chosen')\n",
    "        print('p=%.6f one side' % (pvalue_fisher))\n",
    "        oddsratio, pvalue_fisher = stats.fisher_exact(freq_table)\n",
    "        print('p=%.6f two sides' % (pvalue_fisher))\n",
    "        if pvalue_fisher <= significance:\n",
    "            print(\"\"\"At %.2f level of significance, by using Fisher's test we reject the null hypotheses and accept H1. \n",
    "                They are not independent.\"\"\" % (significance))\n",
    "        else:\n",
    "            print(\"\"\"At %.2f level of significance, by using by using Fisher's test, we accept the null hypotheses. \n",
    "                They are independent.\"\"\" % (significance))\n",
    "    except:\n",
    "        print(\"Cannot perform this calculation by the regular mode\")\n"
   ]
  },
  {
   "cell_type": "code",
   "execution_count": null,
   "metadata": {},
   "outputs": [],
   "source": []
  },
  {
   "cell_type": "code",
   "execution_count": 65,
   "metadata": {
    "scrolled": false
   },
   "outputs": [
    {
     "name": "stdout",
     "output_type": "stream",
     "text": [
      "Age\n"
     ]
    },
    {
     "name": "stderr",
     "output_type": "stream",
     "text": [
      "C:\\Users\\Yair\\Anaconda3\\lib\\site-packages\\pandas\\core\\generic.py:6702: SettingWithCopyWarning: \n",
      "A value is trying to be set on a copy of a slice from a DataFrame.\n",
      "Try using .loc[row_indexer,col_indexer] = value instead\n",
      "\n",
      "See the caveats in the documentation: http://pandas.pydata.org/pandas-docs/stable/user_guide/indexing.html#returning-a-view-versus-a-copy\n",
      "  regex=regex,\n"
     ]
    },
    {
     "data": {
      "image/png": "[encoded data removed]",
      "text/plain": [
       "<Figure size 216x144 with 1 Axes>"
      ]
     },
     "metadata": {
      "needs_background": "light"
     },
     "output_type": "display_data"
    },
    {
     "name": "stdout",
     "output_type": "stream",
     "text": [
      "PointbiserialrResult(correlation=-0.06879730855159692, pvalue=0.3615131267509098)\n",
      "Gestation_(D)\n"
     ]
    },
    {
     "data": {
      "image/png": "[encoded data removed]",
      "text/plain": [
       "<Figure size 216x144 with 1 Axes>"
      ]
     },
     "metadata": {
      "needs_background": "light"
     },
     "output_type": "display_data"
    },
    {
     "name": "stdout",
     "output_type": "stream",
     "text": [
      "PointbiserialrResult(correlation=0.07954139667424942, pvalue=0.2912372718442696)\n",
      "Weight\n"
     ]
    },
    {
     "data": {
      "image/png": "[encoded data removed]",
      "text/plain": [
       "<Figure size 216x144 with 1 Axes>"
      ]
     },
     "metadata": {
      "needs_background": "light"
     },
     "output_type": "display_data"
    },
    {
     "name": "stdout",
     "output_type": "stream",
     "text": [
      "PointbiserialrResult(correlation=0.07416913227681482, pvalue=0.3251528670580238)\n",
      "Extremity\n"
     ]
    },
    {
     "data": {
      "image/png": "[encoded data removed]",
      "text/plain": [
       "<Figure size 216x144 with 1 Axes>"
      ]
     },
     "metadata": {
      "needs_background": "light"
     },
     "output_type": "display_data"
    },
    {
     "name": "stdout",
     "output_type": "stream",
     "text": [
      "PointbiserialrResult(correlation=1.0, pvalue=0.0)\n"
     ]
    }
   ],
   "source": [
    "#Analise segment var\n",
    "##total sample\n",
    "data = data_orig[['Age','Gestation_(D)','Weight','Extremity' ]]\n",
    "code_Extremity = {\"Extremity\":     {\"T\": 1, \"NIL\": 0}}\n",
    "data.replace(code_Extremity, inplace=True)\n",
    "for var in data.columns:\n",
    "    print(var)\n",
    "    Extremity = data['Extremity']\n",
    "    y = data[var]\n",
    "    pbc = stats.pointbiserialr(Extremity,y)\n",
    "    plt.figure(1, figsize = (3,2))\n",
    "    plt.scatter(y, Extremity,  color='gray')\n",
    "    plt.title('%s vs Extremity' %(var))\n",
    "    plt.ylabel('Extremity')\n",
    "    plt.xlabel(var)\n",
    "    plt.grid(True)\n",
    "    plt.show()\n",
    "    print(pbc)"
   ]
  },
  {
   "cell_type": "code",
   "execution_count": 73,
   "metadata": {},
   "outputs": [
    {
     "data": {
      "text/html": [
       "<div>\n",
       "<style scoped>\n",
       "    .dataframe tbody tr th:only-of-type {\n",
       "        vertical-align: middle;\n",
       "    }\n",
       "\n",
       "    .dataframe tbody tr th {\n",
       "        vertical-align: top;\n",
       "    }\n",
       "\n",
       "    .dataframe thead th {\n",
       "        text-align: right;\n",
       "    }\n",
       "</style>\n",
       "<table border=\"1\" class=\"dataframe\">\n",
       "  <thead>\n",
       "    <tr style=\"text-align: right;\">\n",
       "      <th></th>\n",
       "      <th>Age</th>\n",
       "      <th>Gestation_(D)</th>\n",
       "      <th>Weight</th>\n",
       "      <th>Extremity</th>\n",
       "    </tr>\n",
       "  </thead>\n",
       "  <tbody>\n",
       "    <tr>\n",
       "      <td>1</td>\n",
       "      <td>13</td>\n",
       "      <td>280</td>\n",
       "      <td>4.020</td>\n",
       "      <td>1</td>\n",
       "    </tr>\n",
       "    <tr>\n",
       "      <td>4</td>\n",
       "      <td>35</td>\n",
       "      <td>279</td>\n",
       "      <td>4.670</td>\n",
       "      <td>1</td>\n",
       "    </tr>\n",
       "    <tr>\n",
       "      <td>5</td>\n",
       "      <td>38</td>\n",
       "      <td>292</td>\n",
       "      <td>3.400</td>\n",
       "      <td>1</td>\n",
       "    </tr>\n",
       "    <tr>\n",
       "      <td>6</td>\n",
       "      <td>39</td>\n",
       "      <td>272</td>\n",
       "      <td>4.110</td>\n",
       "      <td>1</td>\n",
       "    </tr>\n",
       "    <tr>\n",
       "      <td>7</td>\n",
       "      <td>41</td>\n",
       "      <td>279</td>\n",
       "      <td>4.060</td>\n",
       "      <td>1</td>\n",
       "    </tr>\n",
       "    <tr>\n",
       "      <td>...</td>\n",
       "      <td>...</td>\n",
       "      <td>...</td>\n",
       "      <td>...</td>\n",
       "      <td>...</td>\n",
       "    </tr>\n",
       "    <tr>\n",
       "      <td>173</td>\n",
       "      <td>230</td>\n",
       "      <td>287</td>\n",
       "      <td>3.160</td>\n",
       "      <td>0</td>\n",
       "    </tr>\n",
       "    <tr>\n",
       "      <td>174</td>\n",
       "      <td>242</td>\n",
       "      <td>292</td>\n",
       "      <td>4.150</td>\n",
       "      <td>0</td>\n",
       "    </tr>\n",
       "    <tr>\n",
       "      <td>175</td>\n",
       "      <td>256</td>\n",
       "      <td>251</td>\n",
       "      <td>3.055</td>\n",
       "      <td>0</td>\n",
       "    </tr>\n",
       "    <tr>\n",
       "      <td>176</td>\n",
       "      <td>293</td>\n",
       "      <td>282</td>\n",
       "      <td>3.350</td>\n",
       "      <td>0</td>\n",
       "    </tr>\n",
       "    <tr>\n",
       "      <td>177</td>\n",
       "      <td>312</td>\n",
       "      <td>261</td>\n",
       "      <td>2.720</td>\n",
       "      <td>0</td>\n",
       "    </tr>\n",
       "  </tbody>\n",
       "</table>\n",
       "<p>109 rows × 4 columns</p>\n",
       "</div>"
      ],
      "text/plain": [
       "     Age  Gestation_(D)  Weight  Extremity\n",
       "1     13            280   4.020          1\n",
       "4     35            279   4.670          1\n",
       "5     38            292   3.400          1\n",
       "6     39            272   4.110          1\n",
       "7     41            279   4.060          1\n",
       "..   ...            ...     ...        ...\n",
       "173  230            287   3.160          0\n",
       "174  242            292   4.150          0\n",
       "175  256            251   3.055          0\n",
       "176  293            282   3.350          0\n",
       "177  312            261   2.720          0\n",
       "\n",
       "[109 rows x 4 columns]"
      ]
     },
     "execution_count": 73,
     "metadata": {},
     "output_type": "execute_result"
    }
   ],
   "source": [
    "data"
   ]
  },
  {
   "cell_type": "code",
   "execution_count": 76,
   "metadata": {
    "scrolled": true
   },
   "outputs": [
    {
     "name": "stdout",
     "output_type": "stream",
     "text": [
      "Age\n"
     ]
    },
    {
     "data": {
      "image/png": "[encoded data removed]",
      "text/plain": [
       "<Figure size 216x144 with 1 Axes>"
      ]
     },
     "metadata": {
      "needs_background": "light"
     },
     "output_type": "display_data"
    },
    {
     "name": "stdout",
     "output_type": "stream",
     "text": [
      "PointbiserialrResult(correlation=-0.11906214536188345, pvalue=0.21753623096166447)\n",
      "Gestation_(D)\n"
     ]
    },
    {
     "data": {
      "image/png": "[encoded data removed]",
      "text/plain": [
       "<Figure size 216x144 with 1 Axes>"
      ]
     },
     "metadata": {
      "needs_background": "light"
     },
     "output_type": "display_data"
    },
    {
     "name": "stdout",
     "output_type": "stream",
     "text": [
      "PointbiserialrResult(correlation=-0.03974616176673547, pvalue=0.6815563414527761)\n",
      "Weight\n"
     ]
    },
    {
     "data": {
      "image/png": "[encoded data removed]",
      "text/plain": [
       "<Figure size 216x144 with 1 Axes>"
      ]
     },
     "metadata": {
      "needs_background": "light"
     },
     "output_type": "display_data"
    },
    {
     "name": "stdout",
     "output_type": "stream",
     "text": [
      "PointbiserialrResult(correlation=0.03552817768571168, pvalue=0.7137946502146008)\n",
      "Extremity\n"
     ]
    },
    {
     "data": {
      "image/png": "[encoded data removed]",
      "text/plain": [
       "<Figure size 216x144 with 1 Axes>"
      ]
     },
     "metadata": {
      "needs_background": "light"
     },
     "output_type": "display_data"
    },
    {
     "name": "stdout",
     "output_type": "stream",
     "text": [
      "PointbiserialrResult(correlation=1.0, pvalue=0.0)\n"
     ]
    }
   ],
   "source": [
    "#Analise segment var\n",
    "##Male cohort\n",
    "data = data_orig\n",
    "data = data[data.Gender=='M']\n",
    "data = data[['Age','Gestation_(D)','Weight','Extremity' ]]\n",
    "code_Extremity = {\"Extremity\":     {\"T\": 1, \"NIL\": 0}}\n",
    "data.replace(code_Extremity, inplace=True)\n",
    "for var in data.columns:\n",
    "    print(var)\n",
    "    Extremity = data['Extremity']\n",
    "    y = data[var]\n",
    "    pbc = stats.pointbiserialr(Extremity,y)\n",
    "    plt.figure(1, figsize = (3,2))\n",
    "    plt.scatter(y, Extremity,  color='gray')\n",
    "    plt.title('%s vs Extremity in Male Cohort' %(var))\n",
    "    plt.ylabel('Extremity')\n",
    "    plt.xlabel(var)\n",
    "    plt.grid(True)\n",
    "    plt.show()\n",
    "    print(pbc)   "
   ]
  },
  {
   "cell_type": "code",
   "execution_count": 107,
   "metadata": {
    "scrolled": true
   },
   "outputs": [
    {
     "name": "stdout",
     "output_type": "stream",
     "text": [
      "Age\n"
     ]
    },
    {
     "data": {
      "image/png": "[encoded data removed]",
      "text/plain": [
       "<Figure size 216x144 with 1 Axes>"
      ]
     },
     "metadata": {
      "needs_background": "light"
     },
     "output_type": "display_data"
    },
    {
     "name": "stdout",
     "output_type": "stream",
     "text": [
      "PointbiserialrResult(correlation=0.045759611140793535, pvalue=0.7088809560686797)\n",
      "Gestation_(D)\n"
     ]
    },
    {
     "data": {
      "image/png": "[encoded data removed]",
      "text/plain": [
       "<Figure size 216x144 with 1 Axes>"
      ]
     },
     "metadata": {
      "needs_background": "light"
     },
     "output_type": "display_data"
    },
    {
     "name": "stdout",
     "output_type": "stream",
     "text": [
      "PointbiserialrResult(correlation=0.2756511783311556, pvalue=0.021876261774627773)\n",
      "Weight\n"
     ]
    },
    {
     "data": {
      "image/png": "[encoded data removed]",
      "text/plain": [
       "<Figure size 216x144 with 1 Axes>"
      ]
     },
     "metadata": {
      "needs_background": "light"
     },
     "output_type": "display_data"
    },
    {
     "name": "stdout",
     "output_type": "stream",
     "text": [
      "PointbiserialrResult(correlation=0.16318780547953665, pvalue=0.18031809222131584)\n",
      "Extremity\n"
     ]
    },
    {
     "data": {
      "image/png": "[encoded data removed]",
      "text/plain": [
       "<Figure size 216x144 with 1 Axes>"
      ]
     },
     "metadata": {
      "needs_background": "light"
     },
     "output_type": "display_data"
    },
    {
     "name": "stdout",
     "output_type": "stream",
     "text": [
      "PointbiserialrResult(correlation=1.0, pvalue=0.0)\n"
     ]
    }
   ],
   "source": [
    "#Analise segment var\n",
    "##Female cohort\n",
    "data = data_orig\n",
    "data = data[data.Gender=='F']\n",
    "data = data[['Age','Gestation_(D)','Weight','Extremity' ]]\n",
    "code_Extremity = {\"Extremity\":     {\"T\": 1, \"NIL\": 0}}\n",
    "data.replace(code_Extremity, inplace=True)\n",
    "for var in data.columns:\n",
    "    print(var)\n",
    "    Extremity = data['Extremity']\n",
    "    y = data[var]\n",
    "    pbc = stats.pointbiserialr(Extremity,y)\n",
    "    plt.figure(1, figsize = (3,2))\n",
    "    plt.scatter(y, Extremity,  color='gray')\n",
    "    plt.title('%s vs Extremity in Female Cohort' %(var))\n",
    "    plt.ylabel('Extremity')\n",
    "    plt.xlabel(var)\n",
    "    plt.grid(True)\n",
    "    plt.show()\n",
    "    print(pbc) "
   ]
  },
  {
   "cell_type": "code",
   "execution_count": null,
   "metadata": {},
   "outputs": [],
   "source": []
  },
  {
   "cell_type": "code",
   "execution_count": 133,
   "metadata": {},
   "outputs": [
    {
     "name": "stdout",
     "output_type": "stream",
     "text": [
      "Gender\n",
      "+----------+-------+-----+\n",
      "| Gender   |   NIL |   T |\n",
      "|----------+-------+-----|\n",
      "| F        |    11 |  26 |\n",
      "| M        |    15 |  32 |\n",
      "+----------+-------+-----+\n",
      "chi=0.000513, critical value=3.841459\n",
      "\n",
      "At 0.05 level of significance, by using chi-test, we accept the null hypotheses. \n",
      "            They are independent.\n",
      "Less is chosen\n",
      "p=0.510479 one side\n",
      "p=1.000000 two sides\n",
      "At 0.05 level of significance, by using by using Fisher's test, we accept the null hypotheses. \n",
      "                They are independent.\n",
      "Birth_Method\n",
      "+----------------+-------+-----+\n",
      "| Birth_Method   |   NIL |   T |\n",
      "|----------------+-------+-----|\n",
      "| CS             |     4 |   3 |\n",
      "| EL-CS          |     0 |   3 |\n",
      "| EM-CS          |     3 |  13 |\n",
      "| Vaginal        |    19 |  39 |\n",
      "+----------------+-------+-----+\n",
      "chi=4.794773, critical value=7.814728\n",
      "\n",
      "At 0.05 level of significance, by using chi-test, we accept the null hypotheses. \n",
      "            They are independent.\n",
      "Cannot perform this calculation by the regular mode\n",
      "Vaginal_vs_CS\n",
      "+-----------------+-------+-----+\n",
      "| Vaginal_vs_CS   |   NIL |   T |\n",
      "|-----------------+-------+-----|\n",
      "| CS              |     7 |  19 |\n",
      "| Vaginal         |    19 |  39 |\n",
      "+-----------------+-------+-----+\n",
      "chi=0.078161, critical value=3.841459\n",
      "\n",
      "At 0.05 level of significance, by using chi-test, we accept the null hypotheses. \n",
      "            They are independent.\n",
      "Less is chosen\n",
      "p=0.394683 one side\n",
      "p=0.798929 two sides\n",
      "At 0.05 level of significance, by using by using Fisher's test, we accept the null hypotheses. \n",
      "                They are independent.\n",
      "Extremity\n",
      "+-------------+-------+-----+\n",
      "| Extremity   |   NIL |   T |\n",
      "|-------------+-------+-----|\n",
      "| NIL         |    26 |   0 |\n",
      "| T           |     0 |  58 |\n",
      "+-------------+-------+-----+\n",
      "chi=79.386114, critical value=3.841459\n",
      "\n",
      "At 0.05 level of significance, by using chi-test we reject the null hypotheses and accept H1. \n",
      "            They are not independent.\n",
      "greater is chosen\n",
      "p=0.000000 one side\n",
      "p=0.000000 two sides\n",
      "At 0.05 level of significance, by using Fisher's test we reject the null hypotheses and accept H1. \n",
      "                They are not independent.\n",
      "Weight_3\n",
      "+------------+-------+-----+\n",
      "| Weight_3   |   NIL |   T |\n",
      "|------------+-------+-----|\n",
      "| (0.0, 3.0] |     7 |  12 |\n",
      "| (3.0, inf] |    19 |  46 |\n",
      "+------------+-------+-----+\n",
      "chi=0.121960, critical value=3.841459\n",
      "\n",
      "At 0.05 level of significance, by using chi-test, we accept the null hypotheses. \n",
      "            They are independent.\n",
      "Less is chosen\n",
      "p=0.820335 one side\n",
      "p=0.578096 two sides\n",
      "At 0.05 level of significance, by using by using Fisher's test, we accept the null hypotheses. \n",
      "                They are independent.\n",
      "Weight_3_5\n",
      "+--------------+-------+-----+\n",
      "| Weight_3_5   |   NIL |   T |\n",
      "|--------------+-------+-----|\n",
      "| (0.0, 3.5]   |    18 |  32 |\n",
      "| (3.5, inf]   |     8 |  26 |\n",
      "+--------------+-------+-----+\n",
      "chi=0.946950, critical value=3.841459\n",
      "\n",
      "At 0.05 level of significance, by using chi-test, we accept the null hypotheses. \n",
      "            They are independent.\n",
      "greater is chosen\n",
      "p=0.165412 one side\n",
      "p=0.242122 two sides\n",
      "At 0.05 level of significance, by using by using Fisher's test, we accept the null hypotheses. \n",
      "                They are independent.\n"
     ]
    }
   ],
   "source": [
    "#cibling orded Cohort\n",
    "##First born cohort\n",
    "###categorial data\n",
    "data = data_orig.drop(columns={'Age','Gestation_(D)','Weight'})\n",
    "data = data.set_index('Sibling_Order').loc[1]\n",
    "\n",
    "significance = 0.05\n",
    "\n",
    "def p(a): \n",
    "    v=(scipy.special.binom(int(df2.iloc[0,2]), a) * scipy.special.binom(int(df2.iloc[1,2]), (int(df2.iloc[2,0])-a)) )/scipy.special.binom(n, int(df2.iloc[2,0]))\n",
    "    return v\n",
    "\n",
    "for var in data.columns:\n",
    "    print(var)\n",
    "    freq_table = pd.crosstab(data[var], data.Extremity, rownames = [var], colnames= ['Extremity'])\n",
    "    print(tabulate(freq_table, headers='keys', tablefmt='psql'))\n",
    "    #Chi test\n",
    "    chi, pval_chi, dof_chi, exp_chi = chi2_contingency(freq_table)\n",
    "\n",
    "    p = 1 - significance\n",
    "    critical_value_chi = chi2.ppf(p, dof_chi)\n",
    "    print('chi=%.6f, critical value=%.6f\\n' % (chi, critical_value_chi))\n",
    "    if chi > critical_value_chi:\n",
    "        print(\"\"\"At %.2f level of significance, by using chi-test we reject the null hypotheses and accept H1. \n",
    "            They are not independent.\"\"\" % (significance))\n",
    "    else:\n",
    "        print(\"\"\"At %.2f level of significance, by using chi-test, we accept the null hypotheses. \n",
    "            They are independent.\"\"\" % (significance))\n",
    "    ##Ficher test\n",
    "    try:\n",
    "        if freq_table.iloc[0][0]>freq_table.iloc[1][0]:\n",
    "            oddsratio, pvalue_fisher = stats.fisher_exact(freq_table, alternative='greater')\n",
    "            print('greater is chosen')\n",
    "        else:\n",
    "            oddsratio, pvalue_fisher = stats.fisher_exact(freq_table, alternative='less')\n",
    "            print('Less is chosen')\n",
    "        print('p=%.6f one side' % (pvalue_fisher))\n",
    "        oddsratio, pvalue_fisher = stats.fisher_exact(freq_table)\n",
    "        print('p=%.6f two sides' % (pvalue_fisher))\n",
    "        if pvalue_fisher <= significance:\n",
    "            print(\"\"\"At %.2f level of significance, by using Fisher's test we reject the null hypotheses and accept H1. \n",
    "                They are not independent.\"\"\" % (significance))\n",
    "        else:\n",
    "            print(\"\"\"At %.2f level of significance, by using by using Fisher's test, we accept the null hypotheses. \n",
    "                They are independent.\"\"\" % (significance))\n",
    "    except:\n",
    "        print(\"Cannot perform this calculation by the regular mode\")\n"
   ]
  },
  {
   "cell_type": "code",
   "execution_count": 109,
   "metadata": {},
   "outputs": [
    {
     "name": "stdout",
     "output_type": "stream",
     "text": [
      "Age\n"
     ]
    },
    {
     "data": {
      "image/png": "[encoded data removed]",
      "text/plain": [
       "<Figure size 216x144 with 1 Axes>"
      ]
     },
     "metadata": {
      "needs_background": "light"
     },
     "output_type": "display_data"
    },
    {
     "name": "stdout",
     "output_type": "stream",
     "text": [
      "PointbiserialrResult(correlation=-0.04691759833956859, pvalue=0.6717136894389621)\n",
      "Gestation_(D)\n"
     ]
    },
    {
     "data": {
      "image/png": "[encoded data removed]",
      "text/plain": [
       "<Figure size 216x144 with 1 Axes>"
      ]
     },
     "metadata": {
      "needs_background": "light"
     },
     "output_type": "display_data"
    },
    {
     "name": "stdout",
     "output_type": "stream",
     "text": [
      "PointbiserialrResult(correlation=0.14712200544610526, pvalue=0.18172220887658297)\n",
      "Weight\n"
     ]
    },
    {
     "data": {
      "image/png": "[encoded data removed]",
      "text/plain": [
       "<Figure size 216x144 with 1 Axes>"
      ]
     },
     "metadata": {
      "needs_background": "light"
     },
     "output_type": "display_data"
    },
    {
     "name": "stdout",
     "output_type": "stream",
     "text": [
      "PointbiserialrResult(correlation=0.2290847051200897, pvalue=0.036073509627137165)\n",
      "Extremity\n"
     ]
    },
    {
     "data": {
      "image/png": "[encoded data removed]",
      "text/plain": [
       "<Figure size 216x144 with 1 Axes>"
      ]
     },
     "metadata": {
      "needs_background": "light"
     },
     "output_type": "display_data"
    },
    {
     "name": "stdout",
     "output_type": "stream",
     "text": [
      "PointbiserialrResult(correlation=0.9999999999999997, pvalue=0.0)\n"
     ]
    }
   ],
   "source": [
    "#cibling orded Cohort\n",
    "##First born cohort\n",
    "###interval data\n",
    "data = data_orig\n",
    "data = data.set_index('Sibling_Order').loc[1]\n",
    "data = data[['Age','Gestation_(D)','Weight','Extremity' ]]\n",
    "code_Extremity = {\"Extremity\":     {\"T\": 1, \"NIL\": 0}}\n",
    "data.replace(code_Extremity, inplace=True)\n",
    "for var in data.columns:\n",
    "    print(var)\n",
    "    Extremity = data['Extremity']\n",
    "    y = data[var]\n",
    "    pbc = stats.pointbiserialr(Extremity,y)\n",
    "    plt.figure(1, figsize = (3,2))\n",
    "    plt.scatter(y, Extremity,  color='gray')\n",
    "    plt.title('%s vs Extremity in First Born Cohort' %(var))\n",
    "    plt.ylabel('Extremity')\n",
    "    plt.xlabel(var)\n",
    "    plt.grid(True)\n",
    "    plt.show()\n",
    "    print(pbc) "
   ]
  },
  {
   "cell_type": "code",
   "execution_count": 3,
   "metadata": {},
   "outputs": [
    {
     "name": "stdout",
     "output_type": "stream",
     "text": [
      "Gender\n",
      "+----------+-------+-----+\n",
      "| Gender   |   NIL |   T |\n",
      "|----------+-------+-----|\n",
      "| F        |     4 |  28 |\n",
      "| M        |    17 |  45 |\n",
      "+----------+-------+-----+\n",
      "chi=1.916208, critical value=3.841459\n",
      "\n",
      "At 0.05 level of significance, by using chi-test, we accept the null hypotheses. \n",
      "            They are independent.\n",
      "Less is chosen\n",
      "p=0.080244 one side\n",
      "p=0.122038 two sides\n",
      "At 0.05 level of significance, by using by using Fisher's test, we accept the null hypotheses. \n",
      "                They are independent.\n",
      "Birth_Method\n",
      "+----------------+-------+-----+\n",
      "| Birth_Method   |   NIL |   T |\n",
      "|----------------+-------+-----|\n",
      "| CS             |     1 |   5 |\n",
      "| EL-CS          |     1 |   6 |\n",
      "| EM-CS          |     1 |   7 |\n",
      "| Vaginal        |    18 |  55 |\n",
      "+----------------+-------+-----+\n",
      "chi=1.045510, critical value=7.814728\n",
      "\n",
      "At 0.05 level of significance, by using chi-test, we accept the null hypotheses. \n",
      "            They are independent.\n",
      "Cannot perform this calculation by the regular mode\n",
      "Vaginal_vs_CS\n",
      "+-----------------+-------+-----+\n",
      "| Vaginal_vs_CS   |   NIL |   T |\n",
      "|-----------------+-------+-----|\n",
      "| CS              |     3 |  18 |\n",
      "| Vaginal         |    18 |  55 |\n",
      "+-----------------+-------+-----+\n",
      "chi=0.501741, critical value=3.841459\n",
      "\n",
      "At 0.05 level of significance, by using chi-test, we accept the null hypotheses. \n",
      "            They are independent.\n",
      "Less is chosen\n",
      "p=0.245063 one side\n",
      "p=0.386746 two sides\n",
      "At 0.05 level of significance, by using by using Fisher's test, we accept the null hypotheses. \n",
      "                They are independent.\n",
      "Extremity\n",
      "+-------------+-------+-----+\n",
      "| Extremity   |   NIL |   T |\n",
      "|-------------+-------+-----|\n",
      "| NIL         |    21 |   0 |\n",
      "| T           |     0 |  73 |\n",
      "+-------------+-------+-----+\n",
      "chi=88.324495, critical value=3.841459\n",
      "\n",
      "At 0.05 level of significance, by using chi-test we reject the null hypotheses and accept H1. \n",
      "            They are not independent.\n",
      "greater is chosen\n",
      "p=0.000000 one side\n",
      "p=0.000000 two sides\n",
      "At 0.05 level of significance, by using Fisher's test we reject the null hypotheses and accept H1. \n",
      "                They are not independent.\n",
      "Weight_3\n",
      "+------------+-------+-----+\n",
      "| Weight_3   |   NIL |   T |\n",
      "|------------+-------+-----|\n",
      "| (0.0, 3.0] |     5 |  15 |\n",
      "| (3.0, inf] |    16 |  58 |\n",
      "+------------+-------+-----+\n",
      "chi=0.000373, critical value=3.841459\n",
      "\n",
      "At 0.05 level of significance, by using chi-test, we accept the null hypotheses. \n",
      "            They are independent.\n",
      "Less is chosen\n",
      "p=0.739926 one side\n",
      "p=0.766483 two sides\n",
      "At 0.05 level of significance, by using by using Fisher's test, we accept the null hypotheses. \n",
      "                They are independent.\n",
      "Weight_3_5\n",
      "+--------------+-------+-----+\n",
      "| Weight_3_5   |   NIL |   T |\n",
      "|--------------+-------+-----|\n",
      "| (0.0, 3.5]   |    10 |  40 |\n",
      "| (3.5, inf]   |    11 |  33 |\n",
      "+--------------+-------+-----+\n",
      "chi=0.110623, critical value=3.841459\n",
      "\n",
      "At 0.05 level of significance, by using chi-test, we accept the null hypotheses. \n",
      "            They are independent.\n",
      "Less is chosen\n",
      "p=0.369015 one side\n",
      "p=0.624571 two sides\n",
      "At 0.05 level of significance, by using by using Fisher's test, we accept the null hypotheses. \n",
      "                They are independent.\n"
     ]
    }
   ],
   "source": [
    "#cibling orded Cohort\n",
    "##2+ Child cohort\n",
    "###categorial data\n",
    "data = data_orig.drop(columns={'Age','Gestation_(D)','Weight'})\n",
    "data = data.set_index('Sibling_Order').loc[2]\n",
    "\n",
    "significance = 0.05\n",
    "\n",
    "def p(a): \n",
    "    v=(scipy.special.binom(int(df2.iloc[0,2]), a) * scipy.special.binom(int(df2.iloc[1,2]), (int(df2.iloc[2,0])-a)) )/scipy.special.binom(n, int(df2.iloc[2,0]))\n",
    "    return v\n",
    "\n",
    "for var in data.columns:\n",
    "    print(var)\n",
    "    freq_table = pd.crosstab(data[var], data.Extremity, rownames = [var], colnames= ['Extremity'])\n",
    "    print(tabulate(freq_table, headers='keys', tablefmt='psql'))\n",
    "    #Chi test\n",
    "    chi, pval_chi, dof_chi, exp_chi = chi2_contingency(freq_table)\n",
    "\n",
    "    p = 1 - significance\n",
    "    critical_value_chi = chi2.ppf(p, dof_chi)\n",
    "    print('chi=%.6f, critical value=%.6f\\n' % (chi, critical_value_chi))\n",
    "    if chi > critical_value_chi:\n",
    "        print(\"\"\"At %.2f level of significance, by using chi-test we reject the null hypotheses and accept H1. \n",
    "            They are not independent.\"\"\" % (significance))\n",
    "    else:\n",
    "        print(\"\"\"At %.2f level of significance, by using chi-test, we accept the null hypotheses. \n",
    "            They are independent.\"\"\" % (significance))\n",
    "    ##Ficher test\n",
    "    try:\n",
    "        if freq_table.iloc[0][0]>freq_table.iloc[1][0]:\n",
    "            oddsratio, pvalue_fisher = stats.fisher_exact(freq_table, alternative='greater')\n",
    "            print('greater is chosen')\n",
    "        else:\n",
    "            oddsratio, pvalue_fisher = stats.fisher_exact(freq_table, alternative='less')\n",
    "            print('Less is chosen')\n",
    "        print('p=%.6f one side' % (pvalue_fisher))\n",
    "        oddsratio, pvalue_fisher = stats.fisher_exact(freq_table)\n",
    "        print('p=%.6f two sides' % (pvalue_fisher))\n",
    "        if pvalue_fisher <= significance:\n",
    "            print(\"\"\"At %.2f level of significance, by using Fisher's test we reject the null hypotheses and accept H1. \n",
    "                They are not independent.\"\"\" % (significance))\n",
    "        else:\n",
    "            print(\"\"\"At %.2f level of significance, by using by using Fisher's test, we accept the null hypotheses. \n",
    "                They are independent.\"\"\" % (significance))\n",
    "    except:\n",
    "        print(\"Cannot perform this calculation by the regular mode\")"
   ]
  },
  {
   "cell_type": "code",
   "execution_count": 110,
   "metadata": {},
   "outputs": [
    {
     "name": "stdout",
     "output_type": "stream",
     "text": [
      "Age\n"
     ]
    },
    {
     "data": {
      "image/png": "[encoded data removed]",
      "text/plain": [
       "<Figure size 216x144 with 1 Axes>"
      ]
     },
     "metadata": {
      "needs_background": "light"
     },
     "output_type": "display_data"
    },
    {
     "name": "stdout",
     "output_type": "stream",
     "text": [
      "PointbiserialrResult(correlation=-0.062177377824768745, pvalue=0.5516144480636087)\n",
      "Gestation_(D)\n"
     ]
    },
    {
     "data": {
      "image/png": "[encoded data removed]",
      "text/plain": [
       "<Figure size 216x144 with 1 Axes>"
      ]
     },
     "metadata": {
      "needs_background": "light"
     },
     "output_type": "display_data"
    },
    {
     "name": "stdout",
     "output_type": "stream",
     "text": [
      "PointbiserialrResult(correlation=0.030793683452634085, pvalue=0.7682757369384651)\n",
      "Weight\n"
     ]
    },
    {
     "data": {
      "image/png": "[encoded data removed]",
      "text/plain": [
       "<Figure size 216x144 with 1 Axes>"
      ]
     },
     "metadata": {
      "needs_background": "light"
     },
     "output_type": "display_data"
    },
    {
     "name": "stdout",
     "output_type": "stream",
     "text": [
      "PointbiserialrResult(correlation=-0.06316866996290628, pvalue=0.545276638101812)\n",
      "Extremity\n"
     ]
    },
    {
     "data": {
      "image/png": "[encoded data removed]",
      "text/plain": [
       "<Figure size 216x144 with 1 Axes>"
      ]
     },
     "metadata": {
      "needs_background": "light"
     },
     "output_type": "display_data"
    },
    {
     "name": "stdout",
     "output_type": "stream",
     "text": [
      "PointbiserialrResult(correlation=0.9999999999999998, pvalue=0.0)\n"
     ]
    }
   ],
   "source": [
    "#cibling orded Cohort\n",
    "##2+ Child cohort\n",
    "###interval data\n",
    "data = data_orig\n",
    "data = data.set_index('Sibling_Order').loc[2]\n",
    "data = data[['Age','Gestation_(D)','Weight','Extremity' ]]\n",
    "code_Extremity = {\"Extremity\":     {\"T\": 1, \"NIL\": 0}}\n",
    "data.replace(code_Extremity, inplace=True)\n",
    "for var in data.columns:\n",
    "    print(var)\n",
    "    Extremity = data['Extremity']\n",
    "    y = data[var]\n",
    "    pbc = stats.pointbiserialr(Extremity,y)\n",
    "    plt.figure(1, figsize = (3,2))\n",
    "    plt.scatter(y, Extremity,  color='gray')\n",
    "    plt.title('%s vs Extremity in 2+ Child Cohort' %(var))\n",
    "    plt.ylabel('Extremity')\n",
    "    plt.xlabel(var)\n",
    "    plt.grid(True)\n",
    "    plt.show()\n",
    "    print(pbc) "
   ]
  },
  {
   "cell_type": "code",
   "execution_count": 131,
   "metadata": {},
   "outputs": [
    {
     "name": "stdout",
     "output_type": "stream",
     "text": [
      "Gender\n",
      "+----------+-------+-----+\n",
      "| Gender   |   NIL |   T |\n",
      "|----------+-------+-----|\n",
      "| F        |     2 |  19 |\n",
      "| M        |     8 |  18 |\n",
      "+----------+-------+-----+\n",
      "chi=1.990614, critical value=3.841459\n",
      "\n",
      "At 0.05 level of significance, by using chi-test, we accept the null hypotheses. \n",
      "            They are independent.\n",
      "Less is chosen\n",
      "p=0.077057 one side\n",
      "p=0.149759 two sides\n",
      "At 0.05 level of significance, by using by using Fisher's test, we accept the null hypotheses. \n",
      "                They are independent.\n",
      "Sibling_Order\n",
      "+-----------------+-------+-----+\n",
      "| Sibling_Order   |   NIL |   T |\n",
      "|-----------------+-------+-----|\n",
      "| (0.0, 1.0]      |     7 |  19 |\n",
      "| (1.0, inf]      |     3 |  18 |\n",
      "+-----------------+-------+-----+\n",
      "chi=0.481644, critical value=3.841459\n",
      "\n",
      "At 0.05 level of significance, by using chi-test, we accept the null hypotheses. \n",
      "            They are independent.\n",
      "greater is chosen\n",
      "p=0.246014 one side\n",
      "p=0.475386 two sides\n",
      "At 0.05 level of significance, by using by using Fisher's test, we accept the null hypotheses. \n",
      "                They are independent.\n",
      "Birth_Method\n",
      "+----------------+-------+-----+\n",
      "| Birth_Method   |   NIL |   T |\n",
      "|----------------+-------+-----|\n",
      "| CS             |     5 |   8 |\n",
      "| EL-CS          |     1 |   9 |\n",
      "| EM-CS          |     4 |  20 |\n",
      "+----------------+-------+-----+\n",
      "chi=3.355793, critical value=5.991465\n",
      "\n",
      "At 0.05 level of significance, by using chi-test, we accept the null hypotheses. \n",
      "            They are independent.\n",
      "Cannot perform this calculation by the regular mode\n",
      "Vaginal_vs_CS\n",
      "+-----------------+-------+-----+\n",
      "| Vaginal_vs_CS   |   NIL |   T |\n",
      "|-----------------+-------+-----|\n",
      "| CS              |    10 |  37 |\n",
      "+-----------------+-------+-----+\n",
      "chi=0.000000, critical value=nan\n",
      "\n",
      "At 0.05 level of significance, by using chi-test, we accept the null hypotheses. \n",
      "            They are independent.\n",
      "Cannot perform this calculation by the regular mode\n",
      "Extremity\n",
      "+-------------+-------+-----+\n",
      "| Extremity   |   NIL |   T |\n",
      "|-------------+-------+-----|\n",
      "| NIL         |    10 |   0 |\n",
      "| T           |     0 |  37 |\n",
      "+-------------+-------+-----+\n",
      "chi=41.219326, critical value=3.841459\n",
      "\n",
      "At 0.05 level of significance, by using chi-test we reject the null hypotheses and accept H1. \n",
      "            They are not independent.\n",
      "greater is chosen\n",
      "p=0.000000 one side\n",
      "p=0.000000 two sides\n",
      "At 0.05 level of significance, by using Fisher's test we reject the null hypotheses and accept H1. \n",
      "                They are not independent.\n",
      "Weight_3\n",
      "+------------+-------+-----+\n",
      "| Weight_3   |   NIL |   T |\n",
      "|------------+-------+-----|\n",
      "| (0.0, 3.0] |     3 |  11 |\n",
      "| (3.0, inf] |     7 |  26 |\n",
      "+------------+-------+-----+\n",
      "chi=0.139194, critical value=3.841459\n",
      "\n",
      "At 0.05 level of significance, by using chi-test, we accept the null hypotheses. \n",
      "            They are independent.\n",
      "Less is chosen\n",
      "p=0.666462 one side\n",
      "p=1.000000 two sides\n",
      "At 0.05 level of significance, by using by using Fisher's test, we accept the null hypotheses. \n",
      "                They are independent.\n",
      "Weight_3_5\n",
      "+--------------+-------+-----+\n",
      "| Weight_3_5   |   NIL |   T |\n",
      "|--------------+-------+-----|\n",
      "| (0.0, 3.5]   |     5 |  24 |\n",
      "| (3.5, inf]   |     5 |  13 |\n",
      "+--------------+-------+-----+\n",
      "chi=0.241461, critical value=3.841459\n",
      "\n",
      "At 0.05 level of significance, by using chi-test, we accept the null hypotheses. \n",
      "            They are independent.\n",
      "Less is chosen\n",
      "p=0.307820 one side\n",
      "p=0.473325 two sides\n",
      "At 0.05 level of significance, by using by using Fisher's test, we accept the null hypotheses. \n",
      "                They are independent.\n"
     ]
    }
   ],
   "source": [
    "#Cohorts Analysis - Birth method\n",
    "## CS\n",
    "###Catheforial Var\n",
    "data = data_orig.drop(columns={'Age','Gestation_(D)','Weight'})\n",
    "data = data[data.Vaginal_vs_CS=='CS']\n",
    "\n",
    "significance = 0.05\n",
    "\n",
    "def p(a): \n",
    "    v=(scipy.special.binom(int(df2.iloc[0,2]), a) * scipy.special.binom(int(df2.iloc[1,2]), (int(df2.iloc[2,0])-a)) )/scipy.special.binom(n, int(df2.iloc[2,0]))\n",
    "    return v\n",
    "\n",
    "for var in data.columns:\n",
    "    print(var)\n",
    "    freq_table = pd.crosstab(data[var], data.Extremity, rownames = [var], colnames= ['Extremity'])\n",
    "    print(tabulate(freq_table, headers='keys', tablefmt='psql'))\n",
    "    #Chi test\n",
    "    chi, pval_chi, dof_chi, exp_chi = chi2_contingency(freq_table)\n",
    "\n",
    "    p = 1 - significance\n",
    "    critical_value_chi = chi2.ppf(p, dof_chi)\n",
    "    print('chi=%.6f, critical value=%.6f\\n' % (chi, critical_value_chi))\n",
    "    if chi > critical_value_chi:\n",
    "        print(\"\"\"At %.2f level of significance, by using chi-test we reject the null hypotheses and accept H1. \n",
    "            They are not independent.\"\"\" % (significance))\n",
    "    else:\n",
    "        print(\"\"\"At %.2f level of significance, by using chi-test, we accept the null hypotheses. \n",
    "            They are independent.\"\"\" % (significance))\n",
    "    ##Ficher test\n",
    "    try:\n",
    "        if freq_table.iloc[0][0]>freq_table.iloc[1][0]:\n",
    "            oddsratio, pvalue_fisher = stats.fisher_exact(freq_table, alternative='greater')\n",
    "            print('greater is chosen')\n",
    "        else:\n",
    "            oddsratio, pvalue_fisher = stats.fisher_exact(freq_table, alternative='less')\n",
    "            print('Less is chosen')\n",
    "        print('p=%.6f one side' % (pvalue_fisher))\n",
    "        oddsratio, pvalue_fisher = stats.fisher_exact(freq_table)\n",
    "        print('p=%.6f two sides' % (pvalue_fisher))\n",
    "        if pvalue_fisher <= significance:\n",
    "            print(\"\"\"At %.2f level of significance, by using Fisher's test we reject the null hypotheses and accept H1. \n",
    "                They are not independent.\"\"\" % (significance))\n",
    "        else:\n",
    "            print(\"\"\"At %.2f level of significance, by using by using Fisher's test, we accept the null hypotheses. \n",
    "                They are independent.\"\"\" % (significance))\n",
    "    except:\n",
    "        print(\"Cannot perform this calculation by the regular mode\")"
   ]
  },
  {
   "cell_type": "code",
   "execution_count": 111,
   "metadata": {},
   "outputs": [
    {
     "name": "stdout",
     "output_type": "stream",
     "text": [
      "Age\n"
     ]
    },
    {
     "data": {
      "image/png": "[encoded data removed]",
      "text/plain": [
       "<Figure size 216x144 with 1 Axes>"
      ]
     },
     "metadata": {
      "needs_background": "light"
     },
     "output_type": "display_data"
    },
    {
     "name": "stdout",
     "output_type": "stream",
     "text": [
      "PointbiserialrResult(correlation=0.07370786751250519, pvalue=0.6224511663972914)\n",
      "Gestation_(D)\n"
     ]
    },
    {
     "data": {
      "image/png": "[encoded data removed]",
      "text/plain": [
       "<Figure size 216x144 with 1 Axes>"
      ]
     },
     "metadata": {
      "needs_background": "light"
     },
     "output_type": "display_data"
    },
    {
     "name": "stdout",
     "output_type": "stream",
     "text": [
      "PointbiserialrResult(correlation=0.057831878950010907, pvalue=0.6994058042005127)\n",
      "Weight\n"
     ]
    },
    {
     "data": {
      "image/png": "[encoded data removed]",
      "text/plain": [
       "<Figure size 216x144 with 1 Axes>"
      ]
     },
     "metadata": {
      "needs_background": "light"
     },
     "output_type": "display_data"
    },
    {
     "name": "stdout",
     "output_type": "stream",
     "text": [
      "PointbiserialrResult(correlation=0.01939088348858653, pvalue=0.89706520662143)\n",
      "Extremity\n"
     ]
    },
    {
     "data": {
      "image/png": "[encoded data removed]",
      "text/plain": [
       "<Figure size 216x144 with 1 Axes>"
      ]
     },
     "metadata": {
      "needs_background": "light"
     },
     "output_type": "display_data"
    },
    {
     "name": "stdout",
     "output_type": "stream",
     "text": [
      "PointbiserialrResult(correlation=1.0, pvalue=0.0)\n"
     ]
    }
   ],
   "source": [
    "#Cohorts Analysis - Birth method\n",
    "## CS\n",
    "###segment Var\n",
    "data = data_orig\n",
    "data = data[data.Vaginal_vs_CS=='CS']\n",
    "data = data[['Age','Gestation_(D)','Weight','Extremity' ]]\n",
    "code_Extremity = {\"Extremity\":     {\"T\": 1, \"NIL\": 0}}\n",
    "data.replace(code_Extremity, inplace=True)\n",
    "for var in data.columns:\n",
    "    print(var)\n",
    "    Extremity = data['Extremity']\n",
    "    y = data[var]\n",
    "    pbc = stats.pointbiserialr(Extremity,y)\n",
    "    plt.figure(1, figsize = (3,2))\n",
    "    plt.scatter(y, Extremity,  color='gray')\n",
    "    plt.title('%s vs Extremity in CS Birth Method Cohort' %(var))\n",
    "    plt.ylabel('Extremity')\n",
    "    plt.xlabel(var)\n",
    "    plt.grid(True)\n",
    "    plt.show()\n",
    "    print(pbc) "
   ]
  },
  {
   "cell_type": "code",
   "execution_count": 129,
   "metadata": {},
   "outputs": [
    {
     "name": "stdout",
     "output_type": "stream",
     "text": [
      "Gender\n",
      "+----------+-------+-----+\n",
      "| Gender   |   NIL |   T |\n",
      "|----------+-------+-----|\n",
      "| F        |    13 |  35 |\n",
      "| M        |    24 |  59 |\n",
      "+----------+-------+-----+\n",
      "chi=0.000532, critical value=3.841459\n",
      "\n",
      "At 0.05 level of significance, by using chi-test, we accept the null hypotheses. \n",
      "            They are independent.\n",
      "Less is chosen\n",
      "p=0.493979 one side\n",
      "p=1.000000 two sides\n",
      "At 0.05 level of significance, by using by using Fisher's test, we accept the null hypotheses. \n",
      "                They are independent.\n",
      "Sibling_Order\n",
      "+-----------------+-------+-----+\n",
      "| Sibling_Order   |   NIL |   T |\n",
      "|-----------------+-------+-----|\n",
      "| (0.0, 1.0]      |    19 |  39 |\n",
      "| (1.0, inf]      |    18 |  55 |\n",
      "+-----------------+-------+-----+\n",
      "chi=0.685041, critical value=3.841459\n",
      "\n",
      "At 0.05 level of significance, by using chi-test, we accept the null hypotheses. \n",
      "            They are independent.\n",
      "greater is chosen\n",
      "p=0.203734 one side\n",
      "p=0.333585 two sides\n",
      "At 0.05 level of significance, by using by using Fisher's test, we accept the null hypotheses. \n",
      "                They are independent.\n",
      "Birth_Method\n",
      "+----------------+-------+-----+\n",
      "| Birth_Method   |   NIL |   T |\n",
      "|----------------+-------+-----|\n",
      "| Vaginal        |    37 |  94 |\n",
      "+----------------+-------+-----+\n",
      "chi=0.000000, critical value=nan\n",
      "\n",
      "At 0.05 level of significance, by using chi-test, we accept the null hypotheses. \n",
      "            They are independent.\n",
      "Cannot perform this calculation by the regular mode\n",
      "Vaginal_vs_CS\n",
      "+-----------------+-------+-----+\n",
      "| Vaginal_vs_CS   |   NIL |   T |\n",
      "|-----------------+-------+-----|\n",
      "| Vaginal         |    37 |  94 |\n",
      "+-----------------+-------+-----+\n",
      "chi=0.000000, critical value=nan\n",
      "\n",
      "At 0.05 level of significance, by using chi-test, we accept the null hypotheses. \n",
      "            They are independent.\n",
      "Cannot perform this calculation by the regular mode\n",
      "Extremity\n",
      "+-------------+-------+-----+\n",
      "| Extremity   |   NIL |   T |\n",
      "|-------------+-------+-----|\n",
      "| NIL         |    37 |   0 |\n",
      "| T           |     0 |  94 |\n",
      "+-------------+-------+-----+\n",
      "chi=126.112304, critical value=3.841459\n",
      "\n",
      "At 0.05 level of significance, by using chi-test we reject the null hypotheses and accept H1. \n",
      "            They are not independent.\n",
      "greater is chosen\n",
      "p=0.000000 one side\n",
      "p=0.000000 two sides\n",
      "At 0.05 level of significance, by using Fisher's test we reject the null hypotheses and accept H1. \n",
      "                They are not independent.\n",
      "Weight_3\n",
      "+------------+-------+-----+\n",
      "| Weight_3   |   NIL |   T |\n",
      "|------------+-------+-----|\n",
      "| (0.0, 3.0] |     9 |  16 |\n",
      "| (3.0, inf] |    28 |  78 |\n",
      "+------------+-------+-----+\n",
      "chi=0.505032, critical value=3.841459\n",
      "\n",
      "At 0.05 level of significance, by using chi-test, we accept the null hypotheses. \n",
      "            They are independent.\n",
      "Less is chosen\n",
      "p=0.884397 one side\n",
      "p=0.335324 two sides\n",
      "At 0.05 level of significance, by using by using Fisher's test, we accept the null hypotheses. \n",
      "                They are independent.\n",
      "Weight_3_5\n",
      "+--------------+-------+-----+\n",
      "| Weight_3_5   |   NIL |   T |\n",
      "|--------------+-------+-----|\n",
      "| (0.0, 3.5]   |    23 |  48 |\n",
      "| (3.5, inf]   |    14 |  46 |\n",
      "+--------------+-------+-----+\n",
      "chi=0.908214, critical value=3.841459\n",
      "\n",
      "At 0.05 level of significance, by using chi-test, we accept the null hypotheses. \n",
      "            They are independent.\n",
      "greater is chosen\n",
      "p=0.170403 one side\n",
      "p=0.330367 two sides\n",
      "At 0.05 level of significance, by using by using Fisher's test, we accept the null hypotheses. \n",
      "                They are independent.\n"
     ]
    }
   ],
   "source": [
    "#Cohorts Analysis - Birth method\n",
    "## Vaginal\n",
    "###Catheforial Var\n",
    "data = data_orig.drop(columns={'Age','Gestation_(D)','Weight'})\n",
    "data = data[data.Birth_Method=='Vaginal']\n",
    "\n",
    "significance = 0.05\n",
    "\n",
    "def p(a): \n",
    "    v=(scipy.special.binom(int(df2.iloc[0,2]), a) * scipy.special.binom(int(df2.iloc[1,2]), (int(df2.iloc[2,0])-a)) )/scipy.special.binom(n, int(df2.iloc[2,0]))\n",
    "    return v\n",
    "\n",
    "for var in data.columns:\n",
    "    print(var)\n",
    "    freq_table = pd.crosstab(data[var], data.Extremity, rownames = [var], colnames= ['Extremity'])\n",
    "    print(tabulate(freq_table, headers='keys', tablefmt='psql'))\n",
    "    #Chi test\n",
    "    chi, pval_chi, dof_chi, exp_chi = chi2_contingency(freq_table)\n",
    "\n",
    "    p = 1 - significance\n",
    "    critical_value_chi = chi2.ppf(p, dof_chi)\n",
    "    print('chi=%.6f, critical value=%.6f\\n' % (chi, critical_value_chi))\n",
    "    if chi > critical_value_chi:\n",
    "        print(\"\"\"At %.2f level of significance, by using chi-test we reject the null hypotheses and accept H1. \n",
    "            They are not independent.\"\"\" % (significance))\n",
    "    else:\n",
    "        print(\"\"\"At %.2f level of significance, by using chi-test, we accept the null hypotheses. \n",
    "            They are independent.\"\"\" % (significance))\n",
    "    ##Ficher test\n",
    "    try:\n",
    "        if freq_table.iloc[0][0]>freq_table.iloc[1][0]:\n",
    "            oddsratio, pvalue_fisher = stats.fisher_exact(freq_table, alternative='greater')\n",
    "            print('greater is chosen')\n",
    "        else:\n",
    "            oddsratio, pvalue_fisher = stats.fisher_exact(freq_table, alternative='less')\n",
    "            print('Less is chosen')\n",
    "        print('p=%.6f one side' % (pvalue_fisher))\n",
    "        oddsratio, pvalue_fisher = stats.fisher_exact(freq_table)\n",
    "        print('p=%.6f two sides' % (pvalue_fisher))\n",
    "        if pvalue_fisher <= significance:\n",
    "            print(\"\"\"At %.2f level of significance, by using Fisher's test we reject the null hypotheses and accept H1. \n",
    "                They are not independent.\"\"\" % (significance))\n",
    "        else:\n",
    "            print(\"\"\"At %.2f level of significance, by using by using Fisher's test, we accept the null hypotheses. \n",
    "                They are independent.\"\"\" % (significance))\n",
    "    except:\n",
    "        print(\"Cannot perform this calculation by the regular mode\")"
   ]
  },
  {
   "cell_type": "code",
   "execution_count": null,
   "metadata": {},
   "outputs": [],
   "source": []
  },
  {
   "cell_type": "code",
   "execution_count": 112,
   "metadata": {
    "scrolled": true
   },
   "outputs": [
    {
     "name": "stdout",
     "output_type": "stream",
     "text": [
      "Age\n"
     ]
    },
    {
     "data": {
      "image/png": "[encoded data removed]",
      "text/plain": [
       "<Figure size 216x144 with 1 Axes>"
      ]
     },
     "metadata": {
      "needs_background": "light"
     },
     "output_type": "display_data"
    },
    {
     "name": "stdout",
     "output_type": "stream",
     "text": [
      "PointbiserialrResult(correlation=-0.13709760125700265, pvalue=0.11840641829957745)\n",
      "Gestation_(D)\n"
     ]
    },
    {
     "data": {
      "image/png": "[encoded data removed]",
      "text/plain": [
       "<Figure size 216x144 with 1 Axes>"
      ]
     },
     "metadata": {
      "needs_background": "light"
     },
     "output_type": "display_data"
    },
    {
     "name": "stdout",
     "output_type": "stream",
     "text": [
      "PointbiserialrResult(correlation=0.11161919956127754, pvalue=0.20434607875199448)\n",
      "Weight\n"
     ]
    },
    {
     "data": {
      "image/png": "[encoded data removed]",
      "text/plain": [
       "<Figure size 216x144 with 1 Axes>"
      ]
     },
     "metadata": {
      "needs_background": "light"
     },
     "output_type": "display_data"
    },
    {
     "name": "stdout",
     "output_type": "stream",
     "text": [
      "PointbiserialrResult(correlation=0.11688107485250035, pvalue=0.183681260851154)\n",
      "Extremity\n"
     ]
    },
    {
     "data": {
      "image/png": "[encoded data removed]",
      "text/plain": [
       "<Figure size 216x144 with 1 Axes>"
      ]
     },
     "metadata": {
      "needs_background": "light"
     },
     "output_type": "display_data"
    },
    {
     "name": "stdout",
     "output_type": "stream",
     "text": [
      "PointbiserialrResult(correlation=1.0, pvalue=0.0)\n"
     ]
    }
   ],
   "source": [
    "#Cohorts Analysis - Birth method\n",
    "## CS\n",
    "###segment Var\n",
    "data = data_orig\n",
    "data = data[data.Birth_Method=='Vaginal']\n",
    "data = data[['Age','Gestation_(D)','Weight','Extremity' ]]\n",
    "code_Extremity = {\"Extremity\":     {\"T\": 1, \"NIL\": 0}}\n",
    "data.replace(code_Extremity, inplace=True)\n",
    "for var in data.columns:\n",
    "    print(var)\n",
    "    Extremity = data['Extremity']\n",
    "    y = data[var]\n",
    "    pbc = stats.pointbiserialr(Extremity,y)\n",
    "    plt.figure(1, figsize = (3,2))\n",
    "    plt.scatter(y, Extremity,  color='gray')\n",
    "    plt.title('%s vs Extremity in CS Birth Method Cohort' %(var))\n",
    "    plt.ylabel('Extremity')\n",
    "    plt.xlabel(var)\n",
    "    plt.grid(True)\n",
    "    plt.show()\n",
    "    print(pbc) "
   ]
  },
  {
   "cell_type": "code",
   "execution_count": 125,
   "metadata": {},
   "outputs": [
    {
     "data": {
      "text/plain": [
       "23"
      ]
     },
     "execution_count": 125,
     "metadata": {},
     "output_type": "execute_result"
    }
   ],
   "source": [
    "freq_table.iloc[0][0]"
   ]
  },
  {
   "cell_type": "code",
   "execution_count": 128,
   "metadata": {},
   "outputs": [
    {
     "name": "stdout",
     "output_type": "stream",
     "text": [
      "Gender\n",
      "+----------+-------+-----+\n",
      "| Gender   |   NIL |   T |\n",
      "|----------+-------+-----|\n",
      "| F        |    13 |  35 |\n",
      "| M        |    24 |  59 |\n",
      "+----------+-------+-----+\n",
      "chi=0.000532, critical value=3.841459\n",
      "\n",
      "At 0.05 level of significance, by using chi-test, we accept the null hypotheses. \n",
      "            They are independent.\n",
      "Less is chosen\n",
      "p=0.493979 one side\n",
      "p=1.000000 two sides\n",
      "At 0.05 level of significance, by using by using Fisher's test, we accept the null hypotheses. \n",
      "                They are independent.\n",
      "Sibling_Order\n",
      "+-----------------+-------+-----+\n",
      "| Sibling_Order   |   NIL |   T |\n",
      "|-----------------+-------+-----|\n",
      "| (0.0, 1.0]      |    19 |  39 |\n",
      "| (1.0, inf]      |    18 |  55 |\n",
      "+-----------------+-------+-----+\n",
      "chi=0.685041, critical value=3.841459\n",
      "\n",
      "At 0.05 level of significance, by using chi-test, we accept the null hypotheses. \n",
      "            They are independent.\n",
      "greater is chosen\n",
      "p=0.203734 one side\n",
      "p=0.333585 two sides\n",
      "At 0.05 level of significance, by using by using Fisher's test, we accept the null hypotheses. \n",
      "                They are independent.\n",
      "Birth_Method\n",
      "+----------------+-------+-----+\n",
      "| Birth_Method   |   NIL |   T |\n",
      "|----------------+-------+-----|\n",
      "| Vaginal        |    37 |  94 |\n",
      "+----------------+-------+-----+\n",
      "chi=0.000000, critical value=nan\n",
      "\n",
      "At 0.05 level of significance, by using chi-test, we accept the null hypotheses. \n",
      "            They are independent.\n",
      "Cannot perform this calculation by the regular mode\n",
      "Vaginal_vs_CS\n",
      "+-----------------+-------+-----+\n",
      "| Vaginal_vs_CS   |   NIL |   T |\n",
      "|-----------------+-------+-----|\n",
      "| Vaginal         |    37 |  94 |\n",
      "+-----------------+-------+-----+\n",
      "chi=0.000000, critical value=nan\n",
      "\n",
      "At 0.05 level of significance, by using chi-test, we accept the null hypotheses. \n",
      "            They are independent.\n",
      "Cannot perform this calculation by the regular mode\n",
      "Extremity\n",
      "+-------------+-------+-----+\n",
      "| Extremity   |   NIL |   T |\n",
      "|-------------+-------+-----|\n",
      "| NIL         |    37 |   0 |\n",
      "| T           |     0 |  94 |\n",
      "+-------------+-------+-----+\n",
      "chi=126.112304, critical value=3.841459\n",
      "\n",
      "At 0.05 level of significance, by using chi-test we reject the null hypotheses and accept H1. \n",
      "            They are not independent.\n",
      "greater is chosen\n",
      "p=0.000000 one side\n",
      "p=0.000000 two sides\n",
      "At 0.05 level of significance, by using Fisher's test we reject the null hypotheses and accept H1. \n",
      "                They are not independent.\n",
      "Weight_3\n",
      "+------------+-------+-----+\n",
      "| Weight_3   |   NIL |   T |\n",
      "|------------+-------+-----|\n",
      "| (0.0, 3.0] |     9 |  16 |\n",
      "| (3.0, inf] |    28 |  78 |\n",
      "+------------+-------+-----+\n",
      "chi=0.505032, critical value=3.841459\n",
      "\n",
      "At 0.05 level of significance, by using chi-test, we accept the null hypotheses. \n",
      "            They are independent.\n",
      "Less is chosen\n",
      "p=0.884397 one side\n",
      "p=0.335324 two sides\n",
      "At 0.05 level of significance, by using by using Fisher's test, we accept the null hypotheses. \n",
      "                They are independent.\n",
      "Weight_3_5\n",
      "+--------------+-------+-----+\n",
      "| Weight_3_5   |   NIL |   T |\n",
      "|--------------+-------+-----|\n",
      "| (0.0, 3.5]   |    23 |  48 |\n",
      "| (3.5, inf]   |    14 |  46 |\n",
      "+--------------+-------+-----+\n",
      "chi=0.908214, critical value=3.841459\n",
      "\n",
      "At 0.05 level of significance, by using chi-test, we accept the null hypotheses. \n",
      "            They are independent.\n",
      "greater is chosen\n",
      "p=0.170403 one side\n",
      "p=0.330367 two sides\n",
      "At 0.05 level of significance, by using by using Fisher's test, we accept the null hypotheses. \n",
      "                They are independent.\n"
     ]
    }
   ],
   "source": [
    "# vaginal\n",
    "data = data_orig.drop(columns={'Age','Gestation_(D)','Weight'})\n",
    "data = data[data.Birth_Method=='Vaginal']\n",
    "\n",
    "significance = 0.05\n",
    "\n",
    "\n",
    "for var in data.columns:\n",
    "    print(var)\n",
    "    freq_table = pd.crosstab(data[var], data.Extremity, rownames = [var], colnames= ['Extremity'])\n",
    "    print(tabulate(freq_table, headers='keys', tablefmt='psql'))\n",
    "    #Chi test\n",
    "    chi, pval_chi, dof_chi, exp_chi = chi2_contingency(freq_table)\n",
    "\n",
    "    p = 1 - significance\n",
    "    critical_value_chi = chi2.ppf(p, dof_chi)\n",
    "    print('chi=%.6f, critical value=%.6f\\n' % (chi, critical_value_chi))\n",
    "    if chi > critical_value_chi:\n",
    "        print(\"\"\"At %.2f level of significance, by using chi-test we reject the null hypotheses and accept H1. \n",
    "            They are not independent.\"\"\" % (significance))\n",
    "    else:\n",
    "        print(\"\"\"At %.2f level of significance, by using chi-test, we accept the null hypotheses. \n",
    "            They are independent.\"\"\" % (significance))\n",
    "    ##Ficher test\n",
    "    try:\n",
    "        if freq_table.iloc[0][0]>freq_table.iloc[1][0]:\n",
    "            oddsratio, pvalue_fisher = stats.fisher_exact(freq_table, alternative='greater')\n",
    "            print('greater is chosen')\n",
    "        else:\n",
    "            oddsratio, pvalue_fisher = stats.fisher_exact(freq_table, alternative='less')\n",
    "            print('Less is chosen')\n",
    "        print('p=%.6f one side' % (pvalue_fisher))\n",
    "        oddsratio, pvalue_fisher = stats.fisher_exact(freq_table)\n",
    "        print('p=%.6f two sides' % (pvalue_fisher))\n",
    "        if pvalue_fisher <= significance:\n",
    "            print(\"\"\"At %.2f level of significance, by using Fisher's test we reject the null hypotheses and accept H1. \n",
    "                They are not independent.\"\"\" % (significance))\n",
    "        else:\n",
    "            print(\"\"\"At %.2f level of significance, by using by using Fisher's test, we accept the null hypotheses. \n",
    "                They are independent.\"\"\" % (significance))\n",
    "    except:\n",
    "        print(\"Cannot perform this calculation by the regular mode\")\n",
    "    "
   ]
  }
 ],
 "metadata": {
  "kernelspec": {
   "display_name": "Python 3",
   "language": "python",
   "name": "python3"
  },
  "language_info": {
   "codemirror_mode": {
    "name": "ipython",
    "version": 3
   },
   "file_extension": ".py",
   "mimetype": "text/x-python",
   "name": "python",
   "nbconvert_exporter": "python",
   "pygments_lexer": "ipython3",
   "version": "3.7.4"
  }
 },
 "nbformat": 4,
 "nbformat_minor": 2
}
